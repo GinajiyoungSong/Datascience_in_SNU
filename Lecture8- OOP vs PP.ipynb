{
 "cells": [
  {
   "cell_type": "markdown",
   "id": "a66ae8fe",
   "metadata": {},
   "source": [
    "# OOP => Object-oriented Programming\n",
    "- classes, objects\n",
    "\n",
    "    ex) file.readline()  => <.> 로 연결\n",
    "\n",
    "# PP => Procedural Programming\n",
    "- variables, data structures, function\n",
    "\n",
    "    ex) max(2,3) , float(5)   => 분리"
   ]
  },
  {
   "cell_type": "markdown",
   "id": "057e25e3",
   "metadata": {},
   "source": [
    "### object => encapsulation\n",
    "\n",
    "Contain related information and behaviors (attributes and methods) in **an object**\n",
    "\n",
    "- 하나의 그룹으로 묶여있어서, method 적용이 편리하고 파라미터를 적게 사용함\n",
    "\n",
    "- object A\n",
    "    - variable x => attribute\n",
    "    - func()     => method\n",
    "    \n",
    "    \n",
    "### abstraction => 감출건 감추고 필요한것만 나타냄\n",
    "Hide details (many attributes and methods) from outside and expose only high level methods to the outside world\n",
    "- 유저입장 : simple interface 쉽게 사용가능\n",
    "- 개발자입장 : update -> version. << isolated impact of change >>\n",
    "\n",
    "### inheritance\n",
    "- 상속시켜서 하위클래스에서 동일한 variable 을 중복사용하지 않고 이용가능\n",
    "- copy attributes and method\n",
    "- structured programing\n",
    "\n",
    "### Polymorphism (many forms)\n",
    "- 상속받은 method -> customized function -> 함수를 개념적으로 받고, 실행을 다르게"
   ]
  },
  {
   "cell_type": "markdown",
   "id": "8bd2c77d",
   "metadata": {},
   "source": []
  }
 ],
 "metadata": {
  "kernelspec": {
   "display_name": "Python 3",
   "language": "python",
   "name": "python3"
  },
  "language_info": {
   "codemirror_mode": {
    "name": "ipython",
    "version": 3
   },
   "file_extension": ".py",
   "mimetype": "text/x-python",
   "name": "python",
   "nbconvert_exporter": "python",
   "pygments_lexer": "ipython3",
   "version": "3.8.8"
  }
 },
 "nbformat": 4,
 "nbformat_minor": 5
}
