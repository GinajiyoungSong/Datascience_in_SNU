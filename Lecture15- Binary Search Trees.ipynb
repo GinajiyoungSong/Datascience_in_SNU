{
 "cells": [
  {
   "cell_type": "code",
   "execution_count": 1,
   "id": "ca51d28f",
   "metadata": {},
   "outputs": [],
   "source": [
    "class TreeNode():\n",
    "    def __init__(self, x: int):\n",
    "        self.val = x\n",
    "        self.left = None \n",
    "        self.right = None"
   ]
  },
  {
   "cell_type": "code",
   "execution_count": 4,
   "id": "f04afb04",
   "metadata": {},
   "outputs": [],
   "source": [
    "class BST():\n",
    "    def __init__(self, root:TreeNode) -> None:\n",
    "        self.root = None\n",
    "        \n",
    "        # Recursion\n",
    "    def __searchHelp(self, curNode: TreeNode, x:int) -> TreeNode:\n",
    "        \n",
    "        # (1) Base cases\n",
    "        if not curNode:\n",
    "            return None\n",
    "        if x == curNode.val:\n",
    "            return curNode\n",
    "        \n",
    "        # (2) Recursive cases\n",
    "        elif x < curNode.val:\n",
    "            return self.__searchHelp(curNode.left, x)\n",
    "        else:\n",
    "            return self.__searchHelp(curNode.right, x)\n",
    "        \n",
    "    def search(self, x: int) -> TreeNode:\n",
    "        return self.__searchHelp(self.root, x)\n",
    "    \n",
    "    \n",
    "    def __insertHelp(self, curNode:TreeNode, x:int) -> TreeNode:\n",
    "        \n",
    "        # (1) Base cases\n",
    "        if not curNode:\n",
    "            return TreeNode(x)\n",
    "        if x == curNode.val:\n",
    "            return curNode\n",
    "        \n",
    "        # (2) Recursive cases\n",
    "           # curNode.left 에 값을 넣었는데 새로운 노드가 되야 가지를 뻗음\n",
    "        if x < curNode.val:\n",
    "            curNode.left = self.__insertHelp(curNode.left, x)\n",
    "        elif x > curNode.val:\n",
    "            curNode.right = self.__insertHelp(curNode.right, x)\n",
    "       \n",
    "        return curNode # 가지를 칠수 있게 return 시키기\n",
    "    \n",
    "    \n",
    "    def insert(self, x: int) -> None:\n",
    "        self.root = self.__insertHelp(self.root, x)\n",
    "        \n",
    "    \n",
    "    \n",
    "    def __findMax(self, curNode:TreeNode, x:int) -> TreeNode:\n",
    "        # (1) base case\n",
    "        if not curNode.right:\n",
    "            return curNode.val\n",
    "        \n",
    "        # (2) recursive case\n",
    "        else:\n",
    "            self.__findeMax(curNode.right)\n",
    "        \n",
    "    def __deleteHelp(self, curNode:TreeNode, x:int) -> TreeNode:\n",
    "        \n",
    "        # (1) Base case\n",
    "        if not curNode:\n",
    "            return Node # no delete node\n",
    "        \n",
    "        # Case 1: Delete a leaf node (no child)\n",
    "               # search -> cut link -> delete\n",
    "        # Case 2: Delete a node with one child\n",
    "               # search -> cut link -> new link\n",
    "        # Case 3: Delete a node with two child\n",
    "               # search replacement -left-largest / right-smallest node 중 선택\n",
    "    \n",
    "        # (2) Recursive cases\n",
    "        if x < curNode.val:\n",
    "            curNode.left = self.__deleteHelp(curNode.left, x)\n",
    "        elif x > curNode.val:\n",
    "            curNode.right = self.__deleteHelp(curNode.right, x)\n",
    "        \n",
    "        else: # x == curnode.val : we should delete this node\n",
    "            if curNode.left == None and curNode.right == None:\n",
    "                return None # case 1\n",
    "            \n",
    "            elif curNode.left == None and curNode.right:\n",
    "                return curNode.right\n",
    "            elif curNode.left and curNode.right == None:\n",
    "                return curNode.left # case2\n",
    "            \n",
    "            # case 3 = two childrens\n",
    "            else:\n",
    "                leftLargest = self.__findMax(curNode.left)\n",
    "                curNode.left = self.__deleteHelp(curNode.left, leftLargest)\n",
    "                curNode.val = leftLargest\n",
    "        return curNode\n",
    "            \n",
    "\n",
    "    def delete(self, x: int):\n",
    "        self.root = self.__deleteHelp(self.root, x)\n"
   ]
  },
  {
   "cell_type": "markdown",
   "id": "d9a4ffdc",
   "metadata": {},
   "source": [
    "# BST -> depth -> O(log N)\n",
    "\n",
    "not be balanced -> O(N)이 될수도 있음\n",
    "\n",
    "- Tree: a set of nodes that are connected(linked)\n",
    "   - is only one path between two nodes\n",
    "   \n",
    "- Rooted tree : only one\n",
    "    - one parent : first node\n",
    "    - a node without a chile is a leaf\n",
    "    \n",
    "- Rooted binary tree : Each node has at most two children nodes\n",
    "\n",
    "- Binary search tree : For every node x, x's value is unique\n",
    "    - Every node y in the left subtree of node x has value less than x’s value\n",
    "    - Every node z in the right subtree of node x has value greater than x’s value"
   ]
  },
  {
   "cell_type": "code",
   "execution_count": 10,
   "id": "5a80dc9e",
   "metadata": {},
   "outputs": [],
   "source": [
    "tree1 = TreeNode(1)\n",
    "tree2 = TreeNode(2)\n",
    "tree3 = TreeNode(3)\n",
    "tree4 = TreeNode(4)\n",
    "tree5 = TreeNode(5)\n",
    "tree6 = TreeNode(6)\n",
    "tree7 = TreeNode(7)\n",
    "\n",
    "tree4.left = tree2\n",
    "tree4.rignt = tree6\n",
    "\n",
    "tree2.left = tree1\n",
    "tree2.right = tree3\n",
    "\n",
    "tree6.left = tree5\n",
    "tree6.rignt = tree7\n",
    "\n",
    "myTree = BST(tree4)"
   ]
  },
  {
   "cell_type": "code",
   "execution_count": 11,
   "id": "076fb597",
   "metadata": {},
   "outputs": [
    {
     "name": "stdout",
     "output_type": "stream",
     "text": [
      "None\n"
     ]
    }
   ],
   "source": [
    "node = myTree.search(6)\n",
    "if node == None:\n",
    "    print(node)\n",
    "else:\n",
    "    print(node, node.val)"
   ]
  },
  {
   "cell_type": "code",
   "execution_count": 12,
   "id": "a4f93530",
   "metadata": {},
   "outputs": [
    {
     "data": {
      "text/plain": [
       "<__main__.BST at 0x7fbf787a5550>"
      ]
     },
     "execution_count": 12,
     "metadata": {},
     "output_type": "execute_result"
    }
   ],
   "source": [
    "myTree"
   ]
  },
  {
   "cell_type": "code",
   "execution_count": 14,
   "id": "3411b97d",
   "metadata": {},
   "outputs": [
    {
     "data": {
      "text/plain": [
       "['_BST__deleteHelp',\n",
       " '_BST__findMax',\n",
       " '_BST__insertHelp',\n",
       " '_BST__searchHelp',\n",
       " '__class__',\n",
       " '__delattr__',\n",
       " '__dict__',\n",
       " '__dir__',\n",
       " '__doc__',\n",
       " '__eq__',\n",
       " '__format__',\n",
       " '__ge__',\n",
       " '__getattribute__',\n",
       " '__gt__',\n",
       " '__hash__',\n",
       " '__init__',\n",
       " '__init_subclass__',\n",
       " '__le__',\n",
       " '__lt__',\n",
       " '__module__',\n",
       " '__ne__',\n",
       " '__new__',\n",
       " '__reduce__',\n",
       " '__reduce_ex__',\n",
       " '__repr__',\n",
       " '__setattr__',\n",
       " '__sizeof__',\n",
       " '__str__',\n",
       " '__subclasshook__',\n",
       " '__weakref__',\n",
       " 'delete',\n",
       " 'insert',\n",
       " 'root',\n",
       " 'search']"
      ]
     },
     "execution_count": 14,
     "metadata": {},
     "output_type": "execute_result"
    }
   ],
   "source": [
    "dir(myTree)"
   ]
  },
  {
   "cell_type": "code",
   "execution_count": 16,
   "id": "ad5bb985",
   "metadata": {},
   "outputs": [
    {
     "data": {
      "text/plain": [
       "6"
      ]
     },
     "execution_count": 16,
     "metadata": {},
     "output_type": "execute_result"
    }
   ],
   "source": [
    "tree6.val"
   ]
  },
  {
   "cell_type": "code",
   "execution_count": 17,
   "id": "108a23a8",
   "metadata": {},
   "outputs": [
    {
     "data": {
      "text/plain": [
       "<__main__.TreeNode at 0x7fbf787a5eb0>"
      ]
     },
     "execution_count": 17,
     "metadata": {},
     "output_type": "execute_result"
    }
   ],
   "source": [
    "tree4.left"
   ]
  },
  {
   "cell_type": "code",
   "execution_count": 18,
   "id": "4ddc801e",
   "metadata": {},
   "outputs": [
    {
     "data": {
      "text/plain": [
       "2"
      ]
     },
     "execution_count": 18,
     "metadata": {},
     "output_type": "execute_result"
    }
   ],
   "source": [
    "tree4.left.val"
   ]
  },
  {
   "cell_type": "code",
   "execution_count": null,
   "id": "38bf8cfb",
   "metadata": {},
   "outputs": [],
   "source": []
  }
 ],
 "metadata": {
  "kernelspec": {
   "display_name": "Python 3",
   "language": "python",
   "name": "python3"
  },
  "language_info": {
   "codemirror_mode": {
    "name": "ipython",
    "version": 3
   },
   "file_extension": ".py",
   "mimetype": "text/x-python",
   "name": "python",
   "nbconvert_exporter": "python",
   "pygments_lexer": "ipython3",
   "version": "3.8.8"
  }
 },
 "nbformat": 4,
 "nbformat_minor": 5
}
