{
 "cells": [
  {
   "cell_type": "code",
   "execution_count": 55,
   "id": "f12f2cc4",
   "metadata": {},
   "outputs": [
    {
     "data": {
      "text/plain": [
       "<__main__.LinkedNode at 0x7fc48986c610>"
      ]
     },
     "execution_count": 55,
     "metadata": {},
     "output_type": "execute_result"
    }
   ],
   "source": [
    "class LinkedNode():\n",
    "    def __init__(self,x):\n",
    "        self.val = x\n",
    "        self.next = None\n",
    "                    # for linking to another node\n",
    "        \n",
    "a = LinkedNode(5)\n",
    "a"
   ]
  },
  {
   "cell_type": "code",
   "execution_count": 3,
   "id": "47549ca3",
   "metadata": {},
   "outputs": [],
   "source": [
    "b = LinkedNode(7)"
   ]
  },
  {
   "cell_type": "code",
   "execution_count": 4,
   "id": "062e5f99",
   "metadata": {},
   "outputs": [],
   "source": [
    "a.next = b"
   ]
  },
  {
   "cell_type": "code",
   "execution_count": 5,
   "id": "f167ec9b",
   "metadata": {},
   "outputs": [
    {
     "data": {
      "text/plain": [
       "5"
      ]
     },
     "execution_count": 5,
     "metadata": {},
     "output_type": "execute_result"
    }
   ],
   "source": [
    "a.val"
   ]
  },
  {
   "cell_type": "code",
   "execution_count": 6,
   "id": "58b00fa3",
   "metadata": {},
   "outputs": [
    {
     "data": {
      "text/plain": [
       "7"
      ]
     },
     "execution_count": 6,
     "metadata": {},
     "output_type": "execute_result"
    }
   ],
   "source": [
    "b.val"
   ]
  },
  {
   "cell_type": "code",
   "execution_count": 7,
   "id": "c33eb900",
   "metadata": {},
   "outputs": [
    {
     "data": {
      "text/plain": [
       "7"
      ]
     },
     "execution_count": 7,
     "metadata": {},
     "output_type": "execute_result"
    }
   ],
   "source": [
    "a.next.val"
   ]
  },
  {
   "cell_type": "code",
   "execution_count": 9,
   "id": "774d7fbd",
   "metadata": {},
   "outputs": [
    {
     "data": {
      "text/plain": [
       "<__main__.LinkedNode at 0x7fc4897a6130>"
      ]
     },
     "execution_count": 9,
     "metadata": {},
     "output_type": "execute_result"
    }
   ],
   "source": [
    "b"
   ]
  },
  {
   "cell_type": "code",
   "execution_count": 10,
   "id": "0d122f7c",
   "metadata": {},
   "outputs": [
    {
     "data": {
      "text/plain": [
       "<__main__.LinkedNode at 0x7fc4897a6130>"
      ]
     },
     "execution_count": 10,
     "metadata": {},
     "output_type": "execute_result"
    }
   ],
   "source": [
    "a.next # memory linked"
   ]
  },
  {
   "cell_type": "code",
   "execution_count": 14,
   "id": "41317a32",
   "metadata": {},
   "outputs": [
    {
     "name": "stdout",
     "output_type": "stream",
     "text": [
      "start\n"
     ]
    }
   ],
   "source": [
    "class SLList:\n",
    "    def __init__(self) -> None:\n",
    "        print('start')\n",
    "        self.first = None\n",
    "        \n",
    "    def addFirst(self, x:int) -> None:\n",
    "        # self.first = x\n",
    "        newFirst = LinkedNode(x) # single Linked List 만들기 위해\n",
    "        newFirst.next = self.first\n",
    "        self.first = newFirst\n",
    "        \n",
    "    def getFirst(self) -> None:\n",
    "        if self.first:\n",
    "            return self.first.val\n",
    "        return None\n",
    "        \n",
    "    def getSize(self) -> int:\n",
    "        curNode = self.first\n",
    "        size = 0\n",
    "        while curNode: # while loop => O(N)\n",
    "            size +=1\n",
    "            curNode = curNode.next\n",
    "        return size\n",
    "        \n",
    "# 위에서 만든 LinkedNode class 를 이용하면 x 라는 값 = val    \n",
    "\n",
    "L = SLList()"
   ]
  },
  {
   "cell_type": "code",
   "execution_count": 15,
   "id": "281518bd",
   "metadata": {},
   "outputs": [],
   "source": [
    "L.addFirst(5)\n",
    "L.addFirst(10)"
   ]
  },
  {
   "cell_type": "code",
   "execution_count": 16,
   "id": "dfb6cf58",
   "metadata": {},
   "outputs": [
    {
     "data": {
      "text/plain": [
       "10"
      ]
     },
     "execution_count": 16,
     "metadata": {},
     "output_type": "execute_result"
    }
   ],
   "source": [
    "L.getFirst()"
   ]
  },
  {
   "cell_type": "code",
   "execution_count": 17,
   "id": "17643f65",
   "metadata": {},
   "outputs": [
    {
     "data": {
      "text/plain": [
       "2"
      ]
     },
     "execution_count": 17,
     "metadata": {},
     "output_type": "execute_result"
    }
   ],
   "source": [
    "L.getSize()"
   ]
  },
  {
   "cell_type": "code",
   "execution_count": 18,
   "id": "babace02",
   "metadata": {},
   "outputs": [
    {
     "data": {
      "text/plain": [
       "3"
      ]
     },
     "execution_count": 18,
     "metadata": {},
     "output_type": "execute_result"
    }
   ],
   "source": [
    "L.addFirst(0)\n",
    "L.getSize()"
   ]
  },
  {
   "cell_type": "code",
   "execution_count": 31,
   "id": "6c4cc85e",
   "metadata": {},
   "outputs": [],
   "source": [
    "class SLList:\n",
    "    def __init__(self) -> None:\n",
    "        print('start')\n",
    "        self.first = None\n",
    "        self.size = 0\n",
    "        \n",
    "    def addFirst(self, x:int) -> None:\n",
    "        # self.first = x\n",
    "        newFirst = LinkedNode(x) # single Linked List 만들기 위해\n",
    "        newFirst.next = self.first\n",
    "        self.first = newFirst\n",
    "        self.size +=1\n",
    "        \n",
    "    def append(self, x:int) -> None:\n",
    "        self.size += 1\n",
    "        curNode = self.first\n",
    "        while(curNode.next != None):\n",
    "            curNode = curNode.next\n",
    "        curNode.next = LinkedNode(x)\n",
    "        \n",
    "    def getFirst(self) -> None:\n",
    "        if self.first:\n",
    "            return self.first.val\n",
    "        return None\n",
    "        \n",
    "    def getSize(self) -> int:\n",
    "        # while loof 없애고 변수를 추가해줌\n",
    "        return self.size\n",
    "        "
   ]
  },
  {
   "cell_type": "code",
   "execution_count": 32,
   "id": "6df6232e",
   "metadata": {},
   "outputs": [
    {
     "name": "stdout",
     "output_type": "stream",
     "text": [
      "start\n"
     ]
    }
   ],
   "source": [
    "L = SLList()"
   ]
  },
  {
   "cell_type": "code",
   "execution_count": 33,
   "id": "4044905f",
   "metadata": {},
   "outputs": [
    {
     "data": {
      "text/plain": [
       "3"
      ]
     },
     "execution_count": 33,
     "metadata": {},
     "output_type": "execute_result"
    }
   ],
   "source": [
    "L.addFirst(9)\n",
    "L.addFirst(2)\n",
    "L.append(3) # next\n",
    "L.getSize()"
   ]
  },
  {
   "cell_type": "code",
   "execution_count": 34,
   "id": "f2740250",
   "metadata": {},
   "outputs": [
    {
     "data": {
      "text/plain": [
       "2"
      ]
     },
     "execution_count": 34,
     "metadata": {},
     "output_type": "execute_result"
    }
   ],
   "source": [
    "L.getFirst() # self.first.val "
   ]
  },
  {
   "cell_type": "code",
   "execution_count": 39,
   "id": "1b1dc71a",
   "metadata": {},
   "outputs": [
    {
     "data": {
      "text/plain": [
       "<__main__.LinkedNode at 0x7fc48984d4c0>"
      ]
     },
     "execution_count": 39,
     "metadata": {},
     "output_type": "execute_result"
    }
   ],
   "source": [
    "L.first"
   ]
  },
  {
   "cell_type": "code",
   "execution_count": 42,
   "id": "00c43b79",
   "metadata": {},
   "outputs": [
    {
     "data": {
      "text/plain": [
       "2"
      ]
     },
     "execution_count": 42,
     "metadata": {},
     "output_type": "execute_result"
    }
   ],
   "source": [
    "L.first.val"
   ]
  },
  {
   "cell_type": "code",
   "execution_count": 43,
   "id": "5a9eb03a",
   "metadata": {},
   "outputs": [
    {
     "data": {
      "text/plain": [
       "<__main__.LinkedNode at 0x7fc48984d430>"
      ]
     },
     "execution_count": 43,
     "metadata": {},
     "output_type": "execute_result"
    }
   ],
   "source": [
    "L.first.next"
   ]
  },
  {
   "cell_type": "code",
   "execution_count": 44,
   "id": "9e14aa95",
   "metadata": {},
   "outputs": [
    {
     "data": {
      "text/plain": [
       "9"
      ]
     },
     "execution_count": 44,
     "metadata": {},
     "output_type": "execute_result"
    }
   ],
   "source": [
    "L.first.next.val"
   ]
  },
  {
   "cell_type": "code",
   "execution_count": 61,
   "id": "0145dc8d",
   "metadata": {},
   "outputs": [
    {
     "name": "stdout",
     "output_type": "stream",
     "text": [
      "start\n"
     ]
    }
   ],
   "source": [
    "class SLList:\n",
    "    def __init__(self) -> None:\n",
    "        print('start')\n",
    "        self.first = None\n",
    "        self.size = 0\n",
    "        \n",
    "    def addFirst(self, x:int) -> None:\n",
    "        # self.first = x\n",
    "        newFirst = LinkedNode(x) \n",
    "        newFirst.next = self.first\n",
    "        self.first = newFirst\n",
    "        self.size +=1\n",
    "        \n",
    "    def append(self, x:int) -> None:\n",
    "        self.size += 1\n",
    "        curNode = self.first\n",
    "        while(curNode.next != None):\n",
    "            curNode = curNode.next\n",
    "        curNode.next = LinkedNode(x)\n",
    "        \n",
    "    def getFirst(self) -> None:\n",
    "        if self.first:\n",
    "            return self.first.val\n",
    "        return None\n",
    "        \n",
    "    def getSize(self) -> int:\n",
    "        return self.size\n",
    "        \n",
    "        \n",
    "L = SLList()"
   ]
  },
  {
   "cell_type": "code",
   "execution_count": 62,
   "id": "4a411d23",
   "metadata": {},
   "outputs": [
    {
     "ename": "AttributeError",
     "evalue": "'NoneType' object has no attribute 'next'",
     "output_type": "error",
     "traceback": [
      "\u001b[0;31m---------------------------------------------------------------------------\u001b[0m",
      "\u001b[0;31mAttributeError\u001b[0m                            Traceback (most recent call last)",
      "\u001b[0;32m<ipython-input-62-a166e6046f76>\u001b[0m in \u001b[0;36m<module>\u001b[0;34m\u001b[0m\n\u001b[0;32m----> 1\u001b[0;31m \u001b[0mL\u001b[0m\u001b[0;34m.\u001b[0m\u001b[0mappend\u001b[0m\u001b[0;34m(\u001b[0m\u001b[0;36m3\u001b[0m\u001b[0;34m)\u001b[0m\u001b[0;34m\u001b[0m\u001b[0;34m\u001b[0m\u001b[0m\n\u001b[0m",
      "\u001b[0;32m<ipython-input-61-1b91c9b0030d>\u001b[0m in \u001b[0;36mappend\u001b[0;34m(self, x)\u001b[0m\n\u001b[1;32m     15\u001b[0m         \u001b[0mself\u001b[0m\u001b[0;34m.\u001b[0m\u001b[0msize\u001b[0m \u001b[0;34m+=\u001b[0m \u001b[0;36m1\u001b[0m\u001b[0;34m\u001b[0m\u001b[0;34m\u001b[0m\u001b[0m\n\u001b[1;32m     16\u001b[0m         \u001b[0mcurNode\u001b[0m \u001b[0;34m=\u001b[0m \u001b[0mself\u001b[0m\u001b[0;34m.\u001b[0m\u001b[0mfirst\u001b[0m\u001b[0;34m\u001b[0m\u001b[0;34m\u001b[0m\u001b[0m\n\u001b[0;32m---> 17\u001b[0;31m         \u001b[0;32mwhile\u001b[0m\u001b[0;34m(\u001b[0m\u001b[0mcurNode\u001b[0m\u001b[0;34m.\u001b[0m\u001b[0mnext\u001b[0m \u001b[0;34m!=\u001b[0m \u001b[0;32mNone\u001b[0m\u001b[0;34m)\u001b[0m\u001b[0;34m:\u001b[0m\u001b[0;34m\u001b[0m\u001b[0;34m\u001b[0m\u001b[0m\n\u001b[0m\u001b[1;32m     18\u001b[0m             \u001b[0mcurNode\u001b[0m \u001b[0;34m=\u001b[0m \u001b[0mcurNode\u001b[0m\u001b[0;34m.\u001b[0m\u001b[0mnext\u001b[0m\u001b[0;34m\u001b[0m\u001b[0;34m\u001b[0m\u001b[0m\n\u001b[1;32m     19\u001b[0m         \u001b[0mcurNode\u001b[0m\u001b[0;34m.\u001b[0m\u001b[0mnext\u001b[0m \u001b[0;34m=\u001b[0m \u001b[0mLinkedNode\u001b[0m\u001b[0;34m(\u001b[0m\u001b[0mx\u001b[0m\u001b[0;34m)\u001b[0m\u001b[0;34m\u001b[0m\u001b[0;34m\u001b[0m\u001b[0m\n",
      "\u001b[0;31mAttributeError\u001b[0m: 'NoneType' object has no attribute 'next'"
     ]
    }
   ],
   "source": [
    "L.append(3)"
   ]
  },
  {
   "cell_type": "code",
   "execution_count": 66,
   "id": "0ca3d146",
   "metadata": {},
   "outputs": [
    {
     "name": "stdout",
     "output_type": "stream",
     "text": [
      "start\n"
     ]
    }
   ],
   "source": [
    "class SLList:\n",
    "    def __init__(self) -> None:\n",
    "        print('start')\n",
    "        self.first = None\n",
    "        self.size = 0\n",
    "        \n",
    "    def addFirst(self, x:int) -> None:\n",
    "        # self.first = x\n",
    "        newFirst = LinkedNode(x) \n",
    "        newFirst.next = self.first\n",
    "        self.first = newFirst\n",
    "        self.size +=1\n",
    "        \n",
    "    def append(self, x:int) -> None:\n",
    "        self.size += 1\n",
    "        \n",
    "        if not self.first:\n",
    "            self.first = LinkedNode(x)\n",
    "        else:\n",
    "            curNode = self.first\n",
    "            while curNode.next:\n",
    "                curNode = curNode.next\n",
    "            curNode.next = LinkedNode(x)\n",
    "        \n",
    "    def getFirst(self) -> None:\n",
    "        if self.first:\n",
    "            return self.first.val\n",
    "        return None\n",
    "        \n",
    "    def getSize(self) -> int:\n",
    "        return self.size\n",
    "        \n",
    "        \n",
    "L = SLList()"
   ]
  },
  {
   "cell_type": "code",
   "execution_count": 67,
   "id": "db13b7e1",
   "metadata": {},
   "outputs": [],
   "source": [
    "L.append(10)"
   ]
  },
  {
   "cell_type": "code",
   "execution_count": 68,
   "id": "f4c1577b",
   "metadata": {},
   "outputs": [
    {
     "data": {
      "text/plain": [
       "10"
      ]
     },
     "execution_count": 68,
     "metadata": {},
     "output_type": "execute_result"
    }
   ],
   "source": [
    "L.getFirst()"
   ]
  },
  {
   "cell_type": "code",
   "execution_count": 70,
   "id": "20d13424",
   "metadata": {},
   "outputs": [
    {
     "name": "stdout",
     "output_type": "stream",
     "text": [
      "sentinel node generation\n"
     ]
    }
   ],
   "source": [
    "# Sentinel node => 감시자역활\n",
    "\n",
    "\n",
    "class SLList:\n",
    "    def __init__(self) -> None:\n",
    "        print('sentinel node generation')\n",
    "        self.sentinel = LinkedNode(-100000)\n",
    "        self.size = 0\n",
    "        \n",
    "    def addFirst(self, x:int) -> None:\n",
    "        # self.first = x\n",
    "        newFirst = LinkedNode(x) \n",
    "        newFirst.next = self.sentinel.next\n",
    "        self.sentinel.next = newFirst\n",
    "        self.size +=1\n",
    "        \n",
    "    def append(self, x:int) -> None:\n",
    "        self.size += 1\n",
    "        \n",
    "         # sentinel != None\n",
    "        curNode = self.sentinel    \n",
    "        while curNode.next:\n",
    "            curNode = curNode.next\n",
    "        curNode.next = LinkedNode(x)\n",
    "        \n",
    "    def getFirst(self) -> None:\n",
    "        if self.sentinel.next:\n",
    "            return self.sentinel.next.val\n",
    "        return None\n",
    "        \n",
    "    def getSize(self) -> int:\n",
    "        return self.size\n",
    "        \n",
    "        \n",
    "L = SLList()"
   ]
  },
  {
   "cell_type": "code",
   "execution_count": 71,
   "id": "2a68e2e3",
   "metadata": {},
   "outputs": [],
   "source": [
    "L.append(10)"
   ]
  },
  {
   "cell_type": "code",
   "execution_count": 72,
   "id": "372f0efb",
   "metadata": {},
   "outputs": [
    {
     "data": {
      "text/plain": [
       "10"
      ]
     },
     "execution_count": 72,
     "metadata": {},
     "output_type": "execute_result"
    }
   ],
   "source": [
    "L.getFirst()"
   ]
  },
  {
   "cell_type": "code",
   "execution_count": 73,
   "id": "a780f34d",
   "metadata": {},
   "outputs": [
    {
     "data": {
      "text/plain": [
       "1"
      ]
     },
     "execution_count": 73,
     "metadata": {},
     "output_type": "execute_result"
    }
   ],
   "source": [
    "L.getSize()"
   ]
  },
  {
   "cell_type": "code",
   "execution_count": 74,
   "id": "650be1df",
   "metadata": {},
   "outputs": [
    {
     "data": {
      "text/plain": [
       "<__main__.LinkedNode at 0x7fc48986c3d0>"
      ]
     },
     "execution_count": 74,
     "metadata": {},
     "output_type": "execute_result"
    }
   ],
   "source": [
    "L.addFirst(5)\n",
    "L.sentinel"
   ]
  },
  {
   "cell_type": "code",
   "execution_count": 76,
   "id": "552b1410",
   "metadata": {},
   "outputs": [
    {
     "data": {
      "text/plain": [
       "-100000"
      ]
     },
     "execution_count": 76,
     "metadata": {},
     "output_type": "execute_result"
    }
   ],
   "source": [
    "L.sentinel.val"
   ]
  },
  {
   "cell_type": "code",
   "execution_count": 79,
   "id": "ed302ad6",
   "metadata": {},
   "outputs": [
    {
     "data": {
      "text/plain": [
       "5"
      ]
     },
     "execution_count": 79,
     "metadata": {},
     "output_type": "execute_result"
    }
   ],
   "source": [
    "L.getFirst()"
   ]
  },
  {
   "cell_type": "code",
   "execution_count": 81,
   "id": "251df56d",
   "metadata": {},
   "outputs": [
    {
     "data": {
      "text/plain": [
       "5"
      ]
     },
     "execution_count": 81,
     "metadata": {},
     "output_type": "execute_result"
    }
   ],
   "source": [
    "L.sentinel.next.val # 시작이 L.sentinel.next 이기 때문에\n",
    "\n",
    "# self.sentinel.next =  newFirst  "
   ]
  },
  {
   "cell_type": "code",
   "execution_count": null,
   "id": "444de2ef",
   "metadata": {},
   "outputs": [],
   "source": []
  }
 ],
 "metadata": {
  "kernelspec": {
   "display_name": "Python 3",
   "language": "python",
   "name": "python3"
  },
  "language_info": {
   "codemirror_mode": {
    "name": "ipython",
    "version": 3
   },
   "file_extension": ".py",
   "mimetype": "text/x-python",
   "name": "python",
   "nbconvert_exporter": "python",
   "pygments_lexer": "ipython3",
   "version": "3.8.8"
  }
 },
 "nbformat": 4,
 "nbformat_minor": 5
}
