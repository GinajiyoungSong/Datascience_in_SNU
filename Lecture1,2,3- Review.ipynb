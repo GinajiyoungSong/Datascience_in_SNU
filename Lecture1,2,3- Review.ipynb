{
 "cells": [
  {
   "cell_type": "code",
   "execution_count": null,
   "id": "46d822f0",
   "metadata": {},
   "outputs": [],
   "source": [
    "# Lecture1"
   ]
  },
  {
   "cell_type": "markdown",
   "id": "85a368b9",
   "metadata": {},
   "source": [
    "# Data Science\n",
    "- Drawing useful conclucions from data using computation\n",
    "- 서울대학원 데이터사이언스 = ABC : AI 모델(알고리즘), BigData, Computing \n",
    "- 빅데이터혁신교육대학 - 속도가 느리면 실제로 할수있는게 없다 + D : Domain => conclusion이 무엇을 위해 useful => application\n",
    "- 기술적으로 X => domain 다양한 전공지식이 유의미함 => 범용적으로 applicattion "
   ]
  },
  {
   "cell_type": "markdown",
   "id": "dd5b719d",
   "metadata": {},
   "source": [
    "# Computer Science\n",
    "- Making computers do what you want to do efficiently (for your productivity)\n",
    "- 컴퓨터를 사용해서 - 잘 쓰는것이 무엇보다 중요하고 - 다양한 종류의 컴퓨터가 내가 하고자 하는 일을 자유자재로 사용할수 있어야 = 프로그래밍을 잘해야\n",
    "- 나의 생산성을 올려줄 수 있음"
   ]
  },
  {
   "cell_type": "markdown",
   "id": "66961894",
   "metadata": {},
   "source": [
    "# Algorithms and Programs\n",
    "- Logical steps (recipe) \n",
    "    - 논리적인 방식\n",
    "- Written in a comupter language (instruction set)\n",
    "    - 특징적, 컴퓨터언어를 사용해서 알고리즘이 번역이 되어야 수행"
   ]
  },
  {
   "cell_type": "code",
   "execution_count": null,
   "id": "d54a0320",
   "metadata": {},
   "outputs": [],
   "source": [
    "# Lecture2"
   ]
  },
  {
   "cell_type": "markdown",
   "id": "02fd4b3c",
   "metadata": {},
   "source": [
    "\n",
    "# Abstraction\n",
    "- interface 가 달라도 interpreter에 의해 문제없이 작동\n",
    "\n",
    "# Expression and evaluation\n",
    "- code : ex\n",
    "- run => evaluation\n",
    "\n",
    "# Operator and operand\n",
    "- Operator : 연산자\n",
    "- operand : 들어가는 값\n",
    "\n",
    "# Value and type\n",
    "\n",
    "# Name and Variable\n",
    "\n",
    "# Assignment"
   ]
  },
  {
   "cell_type": "code",
   "execution_count": null,
   "id": "19569f0b",
   "metadata": {},
   "outputs": [],
   "source": [
    "# Lecture3"
   ]
  },
  {
   "cell_type": "markdown",
   "id": "9dbef4a5",
   "metadata": {},
   "source": [
    "# Function structure (header and body)\n",
    "\n",
    "- step1 : Evaluate the **arguments** left to right\n",
    "- step2 : Create a **namespace** to hold the function call's **local variables**, including the parameters\n",
    "- step3 : pass the resulting argument values into the function by assigning the to the **parameters**\n",
    "- step4 : Execute the **funtion body**. when a return statement is executed, the function terminates and the value\n",
    "of the expression in the return statement is used as the value of the function call"
   ]
  },
  {
   "cell_type": "markdown",
   "id": "954dba13",
   "metadata": {},
   "source": [
    "# Namespace and local variable\n",
    "\n",
    "- Namespace : 함수 실행하면 namespace 에서 생성됨\n",
    "   - global frame => conver_to_celsious 이름이 생성됨\n",
    "        - variable(local) 이 똑같이 쓰이면 우선적으로 current namespace\n",
    "        \n",
    "   - local frame = conver_to_celsious => 여기에 a,b return value 가 입력됨\n",
    "        - 함수 연산 끝나면 local 삭제됨\n",
    "        \n",
    "- local variables : variable created within a func\n",
    "        - parameters\n",
    "        - there are erased when the function returns"
   ]
  },
  {
   "cell_type": "code",
   "execution_count": 1,
   "id": "a549814a",
   "metadata": {},
   "outputs": [],
   "source": [
    "def convert_to_celsious(fahrenheit):\n",
    "    return (fahrenheit - 32) * 5/9\n",
    "\n",
    "def convert_to_celsious(celsius):\n",
    "    a = 9/5\n",
    "    b = 32\n",
    "    return celsius * a + b"
   ]
  },
  {
   "cell_type": "code",
   "execution_count": 2,
   "id": "4e517e82",
   "metadata": {},
   "outputs": [
    {
     "ename": "NameError",
     "evalue": "name 'a' is not defined",
     "output_type": "error",
     "traceback": [
      "\u001b[0;31m---------------------------------------------------------------------------\u001b[0m",
      "\u001b[0;31mNameError\u001b[0m                                 Traceback (most recent call last)",
      "\u001b[0;32m<ipython-input-2-3f786850e387>\u001b[0m in \u001b[0;36m<module>\u001b[0;34m\u001b[0m\n\u001b[0;32m----> 1\u001b[0;31m \u001b[0ma\u001b[0m\u001b[0;34m\u001b[0m\u001b[0;34m\u001b[0m\u001b[0m\n\u001b[0m",
      "\u001b[0;31mNameError\u001b[0m: name 'a' is not defined"
     ]
    }
   ],
   "source": [
    "a # loacal variable"
   ]
  },
  {
   "cell_type": "markdown",
   "id": "47f988c1",
   "metadata": {},
   "source": [
    "# function design"
   ]
  },
  {
   "cell_type": "code",
   "execution_count": 3,
   "id": "f55d46fd",
   "metadata": {},
   "outputs": [],
   "source": [
    "def days_difference(day1:int, day2:int)-> int :\n",
    "    # write a short description\n",
    "    # Return the number of dats between day1 and day2, which are both in the range 1-365(thus indication the day of the year)\n",
    "        return day2 - day1"
   ]
  },
  {
   "cell_type": "code",
   "execution_count": 4,
   "id": "98b17630",
   "metadata": {},
   "outputs": [],
   "source": [
    "# lecture3"
   ]
  },
  {
   "cell_type": "markdown",
   "id": "b2b741ac",
   "metadata": {},
   "source": [
    "# int, float, str, boolean"
   ]
  },
  {
   "cell_type": "code",
   "execution_count": 6,
   "id": "31c64893",
   "metadata": {},
   "outputs": [
    {
     "name": "stdout",
     "output_type": "stream",
     "text": [
      "Please enter your name: jiyoung\n"
     ]
    }
   ],
   "source": [
    "a = input(\"Please enter your name:\")"
   ]
  },
  {
   "cell_type": "code",
   "execution_count": 7,
   "id": "84332aa3",
   "metadata": {},
   "outputs": [
    {
     "data": {
      "text/plain": [
       "False"
      ]
     },
     "execution_count": 7,
     "metadata": {},
     "output_type": "execute_result"
    }
   ],
   "source": [
    "cold = True\n",
    "windy = False\n",
    "\n",
    "(not cold) and windy"
   ]
  },
  {
   "cell_type": "code",
   "execution_count": 8,
   "id": "c83dd8f0",
   "metadata": {},
   "outputs": [
    {
     "data": {
      "text/plain": [
       "False"
      ]
     },
     "execution_count": 8,
     "metadata": {},
     "output_type": "execute_result"
    }
   ],
   "source": [
    "False and True"
   ]
  },
  {
   "cell_type": "code",
   "execution_count": 9,
   "id": "adfecb2a",
   "metadata": {},
   "outputs": [
    {
     "ename": "ZeroDivisionError",
     "evalue": "division by zero",
     "output_type": "error",
     "traceback": [
      "\u001b[0;31m---------------------------------------------------------------------------\u001b[0m",
      "\u001b[0;31mZeroDivisionError\u001b[0m                         Traceback (most recent call last)",
      "\u001b[0;32m<ipython-input-9-5c714e1552b4>\u001b[0m in \u001b[0;36m<module>\u001b[0;34m\u001b[0m\n\u001b[0;32m----> 1\u001b[0;31m \u001b[0;32mFalse\u001b[0m \u001b[0;32mor\u001b[0m \u001b[0;34m(\u001b[0m\u001b[0;36m1\u001b[0m\u001b[0;34m/\u001b[0m\u001b[0;36m0\u001b[0m\u001b[0;34m)\u001b[0m\u001b[0;34m\u001b[0m\u001b[0;34m\u001b[0m\u001b[0m\n\u001b[0m",
      "\u001b[0;31mZeroDivisionError\u001b[0m: division by zero"
     ]
    }
   ],
   "source": [
    "False or (1/0) # 앞에 false or 뒤 확인. 뒤에 있는 식이 잘못되어서 에러"
   ]
  },
  {
   "cell_type": "code",
   "execution_count": 10,
   "id": "745623e8",
   "metadata": {},
   "outputs": [
    {
     "data": {
      "text/plain": [
       "True"
      ]
     },
     "execution_count": 10,
     "metadata": {},
     "output_type": "execute_result"
    }
   ],
   "source": [
    "True or (1/0) # True or 이면 어차피 true 이므로 뒤에 어떤 문제가 와도 의도적으로 에러 안냄"
   ]
  },
  {
   "cell_type": "code",
   "execution_count": 12,
   "id": "0fab6d23",
   "metadata": {},
   "outputs": [
    {
     "data": {
      "text/plain": [
       "True"
      ]
     },
     "execution_count": 12,
     "metadata": {},
     "output_type": "execute_result"
    }
   ],
   "source": [
    "\"sep\" in \" 09 sep 2022\""
   ]
  },
  {
   "cell_type": "code",
   "execution_count": null,
   "id": "b4e73f6a",
   "metadata": {},
   "outputs": [],
   "source": []
  }
 ],
 "metadata": {
  "kernelspec": {
   "display_name": "Python 3",
   "language": "python",
   "name": "python3"
  },
  "language_info": {
   "codemirror_mode": {
    "name": "ipython",
    "version": 3
   },
   "file_extension": ".py",
   "mimetype": "text/x-python",
   "name": "python",
   "nbconvert_exporter": "python",
   "pygments_lexer": "ipython3",
   "version": "3.8.8"
  }
 },
 "nbformat": 4,
 "nbformat_minor": 5
}
