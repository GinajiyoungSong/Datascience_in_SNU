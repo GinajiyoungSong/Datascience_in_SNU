{
 "cells": [
  {
   "cell_type": "code",
   "execution_count": 2,
   "id": "259adc18",
   "metadata": {},
   "outputs": [],
   "source": [
    "# Let’s implement factorial function (n! = 1x2x3x...x(n-1)xn)\n",
    "\n",
    "def facto(n:int) -> int:\n",
    "    ans = 1\n",
    "    for i in range(1, n+1):\n",
    "        ans = ans * i\n",
    "    return ans"
   ]
  },
  {
   "cell_type": "code",
   "execution_count": 3,
   "id": "1da69a6b",
   "metadata": {},
   "outputs": [
    {
     "data": {
      "text/plain": [
       "120"
      ]
     },
     "execution_count": 3,
     "metadata": {},
     "output_type": "execute_result"
    }
   ],
   "source": [
    "facto(5)"
   ]
  },
  {
   "cell_type": "code",
   "execution_count": 4,
   "id": "194243b1",
   "metadata": {},
   "outputs": [],
   "source": [
    "def facto_recur(n:int) -> int:\n",
    "    if n == 0:\n",
    "        return 1\n",
    "    else:\n",
    "        return n*facto_recur(n-1)"
   ]
  },
  {
   "cell_type": "code",
   "execution_count": 5,
   "id": "9c60488b",
   "metadata": {},
   "outputs": [
    {
     "data": {
      "text/plain": [
       "120"
      ]
     },
     "execution_count": 5,
     "metadata": {},
     "output_type": "execute_result"
    }
   ],
   "source": [
    "facto_recur(5)"
   ]
  },
  {
   "cell_type": "code",
   "execution_count": 13,
   "id": "e937f745",
   "metadata": {},
   "outputs": [],
   "source": [
    "# Example – Fibonacci Sequence\n",
    "def fibonacci(n:int) -> int:\n",
    "\n",
    "    if n == 1 or  n == 2:\n",
    "        return n\n",
    "    \n",
    "    else:\n",
    "        return fibonacci(n-1) + fibonacci(n-2)"
   ]
  },
  {
   "cell_type": "code",
   "execution_count": 14,
   "id": "8ee7c59a",
   "metadata": {},
   "outputs": [
    {
     "data": {
      "text/plain": [
       "5"
      ]
     },
     "execution_count": 14,
     "metadata": {},
     "output_type": "execute_result"
    }
   ],
   "source": [
    "fibonacci(4)"
   ]
  },
  {
   "cell_type": "code",
   "execution_count": 15,
   "id": "dd95fabb",
   "metadata": {},
   "outputs": [
    {
     "data": {
      "text/plain": [
       "2"
      ]
     },
     "execution_count": 15,
     "metadata": {},
     "output_type": "execute_result"
    }
   ],
   "source": [
    "fibonacci(2)"
   ]
  },
  {
   "cell_type": "markdown",
   "id": "e1b97561",
   "metadata": {},
   "source": [
    "# Mergesort\n",
    "- Divide and recursive calls\n",
    "- Merge sorted sublists\n",
    "\n",
    "### Time complexity O(NlogN)\n",
    "• O(logN) levels for recursion\n",
    "\n",
    "• O(N) for merging at each level\n",
    "\n",
    "### Memory complexity O(N)\n",
    "• For copying sublists"
   ]
  },
  {
   "cell_type": "code",
   "execution_count": 1,
   "id": "41457de6",
   "metadata": {},
   "outputs": [],
   "source": [
    "def merge(L:list, first:int, mid:int, last:int)-> None:\n",
    "    # initilization\n",
    "    k = first\n",
    "    sub1 = L[first:mid+1] # additional memory for list copy\n",
    "    sub2 = L[mid+1:last+1]\n",
    "    i = j = 0\n",
    "    \n",
    "    while i < len(sub1) and j < len(sub2):\n",
    "        if sub1[i] <= sub2[j]:\n",
    "            L[k] = sub1[i]\n",
    "            i = i +1\n",
    "        else:\n",
    "            L[k] = sub2[j]\n",
    "            j = j +1\n",
    "        \n",
    "        k = k+1\n",
    "\n",
    "    # at least one sublist is finished\n",
    "    if i < len(sub1):\n",
    "        L[k:last+1] = sub1[i:]\n",
    "    elif j < len(sub2):\n",
    "        L[k:last+1] = sub2[j:]\n",
    "    \n",
    "            \n",
    "\n",
    "def mergeSortHelp(L:list, first:int, last:int) -> None:\n",
    "    # condition statement\n",
    "    if first == last:\n",
    "        # base case\n",
    "        return\n",
    "    \n",
    "    # Recursive case\n",
    "    else:\n",
    "        # step1 : Divide it into two sublists\n",
    "        mid = first + (last - first) // 2\n",
    "        \n",
    "        # step2 : sort the tow sublists\n",
    "        mergeSortHelp(L, first, mid)\n",
    "        mergeSortHelp(L, mid+1, last)\n",
    "        \n",
    "        # step3: Merge the two \"sorted\" sublist\n",
    "        merge(L, first, mid, last)\n",
    "\n",
    "\n",
    "\n",
    "\n",
    "def mergeSort(L:list) -> None:\n",
    "    mergeSortHelp(L, 0, len(L)-1)\n",
    "    \n",
    "    "
   ]
  },
  {
   "cell_type": "code",
   "execution_count": 5,
   "id": "29837dfd",
   "metadata": {},
   "outputs": [],
   "source": [
    "def func(x):\n",
    "    if(x==0 or x==1):\n",
    "        return 1\n",
    "    return func(x-1)*x"
   ]
  },
  {
   "cell_type": "code",
   "execution_count": 6,
   "id": "72537611",
   "metadata": {},
   "outputs": [
    {
     "data": {
      "text/plain": [
       "720"
      ]
     },
     "execution_count": 6,
     "metadata": {},
     "output_type": "execute_result"
    }
   ],
   "source": [
    "func(6)"
   ]
  },
  {
   "cell_type": "code",
   "execution_count": 7,
   "id": "01f89ee6",
   "metadata": {},
   "outputs": [
    {
     "name": "stdout",
     "output_type": "stream",
     "text": [
      "hello\n",
      "hello\n",
      "hello\n",
      "hello\n",
      "hello\n"
     ]
    }
   ],
   "source": [
    "def f(n):\n",
    "    if n > 1:\n",
    "        print(\"hello\")\n",
    "        f(n/2)\n",
    "        \n",
    "f(32)"
   ]
  },
  {
   "cell_type": "code",
   "execution_count": null,
   "id": "f5d294b8",
   "metadata": {},
   "outputs": [],
   "source": []
  }
 ],
 "metadata": {
  "kernelspec": {
   "display_name": "Python 3",
   "language": "python",
   "name": "python3"
  },
  "language_info": {
   "codemirror_mode": {
    "name": "ipython",
    "version": 3
   },
   "file_extension": ".py",
   "mimetype": "text/x-python",
   "name": "python",
   "nbconvert_exporter": "python",
   "pygments_lexer": "ipython3",
   "version": "3.8.8"
  }
 },
 "nbformat": 4,
 "nbformat_minor": 5
}
