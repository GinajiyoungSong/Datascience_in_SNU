{
 "cells": [
  {
   "cell_type": "markdown",
   "id": "08d74511",
   "metadata": {},
   "source": [
    "# Practice – File I/O\n",
    "\n",
    "Suppose the file <file_practice.txt> contains numbers ending with ‘.’ and comments written after hash symbol(#).\n",
    "\n",
    "Write a code that finds the largest number in the file ending with ‘.’. Ignore any part of the line commented with ‘#’."
   ]
  },
  {
   "cell_type": "code",
   "execution_count": 4,
   "id": "2f5be819",
   "metadata": {},
   "outputs": [
    {
     "name": "stdout",
     "output_type": "stream",
     "text": [
      "['']\n",
      "['269', '  321', '  585', '  871', ' 1475', ' 2821', ' 3928', '']\n",
      "['184', '  279', '  409', ' 2285', ' 2685', ' 3409', ' 1824', '  409', '  151', '   45', '   68', '  213', '']\n",
      "['546', ' 1033', ' 2129', ' 2536', '  957', '  361', '  377', '  225', '  360', '  731', ' 1638', ' 2725', '']\n",
      "['2871', ' 2119', '  684', '  299', '  236', '  245', '  552', ' 1623', ' 3311', ' 6721', ' 4245', '  687', '']\n",
      "['255', '  473', '  358', '  784', ' 1594', ' 1676', ' 2251', ' 1426', '  756', '  299', '  201', '  229', '']\n",
      "['469', '  736', ' 2042', ' 2811', ' 4431', ' 2511', '  389', ' 73', '   39', '   49', '   59', '  188', '']\n",
      "['377', ' 1292', ' 4031', ' 3495', '  587', '  105', '  153', '  387', '  758', ' 1307', '']\n",
      "['6313', ' 3794', ' 1836', '  345', '  382', '  808', ' 1388', ' 2713', ' 3800', ' 3091', ' 2985', ' 3790', '']\n",
      "['674', '   81', '   80', '  108', '  229', '  399', ' 1132', ' 2432', ' 3574', ' 2935', ' 1537', '  529', '']\n",
      "['485', '  662', ' 1000', ' 1590', ' 2657', ' 3396', '']\n"
     ]
    }
   ],
   "source": [
    "from typing import TextIO\n",
    "\n",
    "# (2) process file\n",
    "def process_file(input_file: TextIO) -> float:\n",
    "    max_num = 0 # Initialization\n",
    "    \n",
    "    line = input_file.readline()\n",
    "    while line:\n",
    "        if not line.startswith(\"#\"):  # Ignore # sentence\n",
    "            valid_line = line.split(\"#\")[0].strip() # Ignore startwith # \n",
    "\n",
    "            # Ignore any part of the line commented with ‘#’\n",
    "            numStrings = valid_line.split(\".\") # remove '.'\n",
    "            print(numStrings) # list => can not strip()\n",
    "            \n",
    "            for numStr in numStrings:\n",
    "                # 유효한 값인지 확인 : filter empty string\n",
    "                if numStr:\n",
    "                    num = float(numStr) # text => str type => float\n",
    "                    if max_num < num:\n",
    "                        max_num = num\n",
    "                    \n",
    "        line = input_file.readline() # read next line\n",
    "    return max_num\n",
    "\n",
    "# (1) open file\n",
    "with open('file_practice.txt','r') as file:\n",
    "    output = process_file(file)\n",
    "    # find the largest number\n",
    "    \n",
    "   "
   ]
  },
  {
   "cell_type": "code",
   "execution_count": 6,
   "id": "b4e70590",
   "metadata": {},
   "outputs": [],
   "source": [
    "from typing import TextIO\n",
    "\n",
    "# (2) process file\n",
    "def process_file(input_file: TextIO) -> float:\n",
    "    max_num = 0 # Initialization\n",
    "    \n",
    "    line = input_file.readline()\n",
    "    while line:\n",
    "        if not line.startswith(\"#\"):  # Ignore # sentence\n",
    "            valid_line = line.split(\"#\")[0].strip() # Ignore startwith # \n",
    "\n",
    "            # Ignore any part of the line commented with ‘#’\n",
    "            numStrings = valid_line.split(\".\") # remove '.'\n",
    "            \n",
    "            for numStr in numStrings:\n",
    "                # 유효한 값인지 확인 : filter empty string\n",
    "                if numStr: # True/False\n",
    "                    \n",
    "                    num = float(numStr.strip()) # text => str type => float\n",
    "                    if max_num < num:\n",
    "                        max_num = num\n",
    "                    \n",
    "        line = input_file.readline() # read next line\n",
    "    return max_num\n",
    "\n",
    "# (1) open file\n",
    "with open('file_practice.txt','r') as file:\n",
    "    output = process_file(file)\n",
    "    # find the largest number\n",
    "    \n",
    "   "
   ]
  },
  {
   "cell_type": "code",
   "execution_count": 7,
   "id": "de0f34a6",
   "metadata": {},
   "outputs": [
    {
     "data": {
      "text/plain": [
       "6721.0"
      ]
     },
     "execution_count": 7,
     "metadata": {},
     "output_type": "execute_result"
    }
   ],
   "source": [
    "output"
   ]
  },
  {
   "cell_type": "code",
   "execution_count": null,
   "id": "b8c94086",
   "metadata": {},
   "outputs": [],
   "source": []
  }
 ],
 "metadata": {
  "kernelspec": {
   "display_name": "Python 3",
   "language": "python",
   "name": "python3"
  },
  "language_info": {
   "codemirror_mode": {
    "name": "ipython",
    "version": 3
   },
   "file_extension": ".py",
   "mimetype": "text/x-python",
   "name": "python",
   "nbconvert_exporter": "python",
   "pygments_lexer": "ipython3",
   "version": "3.8.8"
  }
 },
 "nbformat": 4,
 "nbformat_minor": 5
}
