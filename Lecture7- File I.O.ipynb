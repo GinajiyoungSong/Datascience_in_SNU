{
 "cells": [
  {
   "cell_type": "markdown",
   "id": "ccaf37db",
   "metadata": {},
   "source": [
    "user IO = 유저와 파이썬 프로그램이 소통하는 매개체\n",
    "\n",
    "- input_ = 마우스, 키보드\n",
    "- output_ = 모니터\n",
    "\n",
    "file IO = 파일과 파이썬 프로그램이 서로 소통하는 \n",
    "- => 하드나 인터넷 등에 저장된 파일에 데이터를 input으로 받아서 파이썬의 영역으로 output 하거나\n",
    "- => 파이썬 영역에서 작업해서 데이터를 output 으로 유저영역으로 내보내는 작업"
   ]
  },
  {
   "cell_type": "code",
   "execution_count": 3,
   "id": "585fe979",
   "metadata": {},
   "outputs": [
    {
     "name": "stdout",
     "output_type": "stream",
     "text": [
      "Fist line of text\n",
      "Second linde of text\n",
      "Third line of text\n"
     ]
    }
   ],
   "source": [
    "file = open('file_example.txt', 'r')   # assignment > open('파일경로/파일명')\n",
    "contents = file.read()\n",
    "file.close()\n",
    "print(contents)"
   ]
  },
  {
   "cell_type": "markdown",
   "id": "57b82a2f",
   "metadata": {},
   "source": [
    "### file = open(<<file_name>>, mode)\n",
    "- Open a file and return an object that knows how to get information from the file\n",
    "- This (file)object also **keeps track of current location**: how much you’ve read and which part of the file you are about to read next\n",
    "- 커서 : 파일에서 어디부터 읽을건지, 어디까지 수행되었는지 트랙킹되는 장소\n",
    "- File cursor: The marker that keeps track of the **current location** in the file (initially at the beginning of the file and moving to the end as you read or write data)\n",
    "   -  Mode: ‘r’ is for reading, \n",
    "   - ‘w’ is for writing, \n",
    "   - ‘a’ for appending\n",
    "   \n",
    "   \n",
    "### file.read()\n",
    "- file cursor 가 제일 앞-첫줄에 있었는데 파일데이터 제일 끝까지 읽어내는 함수 : 전체 로드\n",
    "\n",
    "### file.close()\n",
    "- memory 안에 있는 object 용량을 계속 유지하면 프로그래밍 속도가 떨어지므로 -> open/close 해줘야함\n",
    "\n",
    "\n",
    "## open() – access, read() – do something, close() – release"
   ]
  },
  {
   "cell_type": "code",
   "execution_count": 4,
   "id": "c64600b5",
   "metadata": {},
   "outputs": [
    {
     "data": {
      "text/plain": [
       "'Fist line of text\\nSecond linde of text\\nThird line of text'"
      ]
     },
     "execution_count": 4,
     "metadata": {},
     "output_type": "execute_result"
    }
   ],
   "source": [
    "contents"
   ]
  },
  {
   "cell_type": "markdown",
   "id": "58093f7f",
   "metadata": {},
   "source": [
    "# Opening a File – With Statement\n",
    "\n",
    "with open(‘file_example.txt’, ‘r’) as file:\n",
    "\n",
    "    contents = file.read()\n",
    "print(contents)\n",
    "\n",
    "- Resource is released when the program leaves the ‘with’ statement"
   ]
  },
  {
   "cell_type": "code",
   "execution_count": 5,
   "id": "8dfb5c04",
   "metadata": {},
   "outputs": [
    {
     "data": {
      "text/plain": [
       "'/Users/mac/Documents/Datascience_in_snu/programing_foundation_practice'"
      ]
     },
     "execution_count": 5,
     "metadata": {},
     "output_type": "execute_result"
    }
   ],
   "source": [
    "import os\n",
    "os.getcwd() # 워킹 디렉토리 경로 확인 => get_current working directory"
   ]
  },
  {
   "cell_type": "code",
   "execution_count": 6,
   "id": "2e9e57df",
   "metadata": {},
   "outputs": [
    {
     "data": {
      "text/plain": [
       "'/Users/mac/Documents/Datascience_in_snu'"
      ]
     },
     "execution_count": 6,
     "metadata": {},
     "output_type": "execute_result"
    }
   ],
   "source": [
    "os.chdir('/Users/mac/Documents/Datascience_in_snu/')\n",
    "os.getcwd()"
   ]
  },
  {
   "cell_type": "code",
   "execution_count": 9,
   "id": "49c65009",
   "metadata": {},
   "outputs": [
    {
     "name": "stdout",
     "output_type": "stream",
     "text": [
      "Fist line \n"
     ]
    }
   ],
   "source": [
    "with open('programing_foundation_practice/file_example.txt', 'r') as file:\n",
    "    contents = file.read(10)\n",
    "print(contents)"
   ]
  },
  {
   "cell_type": "code",
   "execution_count": 13,
   "id": "1777ef99",
   "metadata": {},
   "outputs": [
    {
     "name": "stdout",
     "output_type": "stream",
     "text": [
      "of text\n",
      "Se\n"
     ]
    }
   ],
   "source": [
    "# 커서는 후퇴하지 않음\n",
    "with open('programing_foundation_practice/file_example.txt', 'r') as file:\n",
    "    contents = file.read(10)\n",
    "    content2 = file.read(10)\n",
    "print(content2)"
   ]
  },
  {
   "cell_type": "code",
   "execution_count": 15,
   "id": "f9e8a287",
   "metadata": {},
   "outputs": [
    {
     "name": "stdout",
     "output_type": "stream",
     "text": [
      "['Fist line of text\\n', 'Second linde of text\\n', 'Third line of text']\n"
     ]
    }
   ],
   "source": [
    "with open('programing_foundation_practice/file_example.txt', 'r') as file:\n",
    "    contents = file.readlines()\n",
    "    # 모든 라인을 다 읽어라, readline() => 커서가 있는 위치의 한줄 로드 -> 커서 다음줄로 넘어감\n",
    "   \n",
    "    # To remove them, you need to you strip method: lines.strip()\n",
    "print(contents)"
   ]
  },
  {
   "cell_type": "code",
   "execution_count": 26,
   "id": "33da13aa",
   "metadata": {},
   "outputs": [
    {
     "name": "stdout",
     "output_type": "stream",
     "text": [
      "Fist line of text\n"
     ]
    }
   ],
   "source": [
    "with open('programing_foundation_practice/file_example.txt', 'r') as file:\n",
    "    lines = file.readline()\n",
    "    contents = lines.strip() # 한줄로 불러와서 strip() 해줘야 \\n 제거 가능\n",
    "    \n",
    "    # 전체 문장을 받아오려면 for loop 사용\n",
    "    \n",
    "print(contents)"
   ]
  },
  {
   "cell_type": "code",
   "execution_count": 25,
   "id": "39cdde15",
   "metadata": {
    "collapsed": true
   },
   "outputs": [
    {
     "name": "stdout",
     "output_type": "stream",
     "text": [
      "Coloured fox fur production, HOPEDALE, Labrador,, 1834-1925\n",
      "#Source: C. Elton (1942) \"Voles, Mice and Lemmings\", Oxford Univ. Press\n",
      "#Table 17, p.265--266\n",
      "22\n",
      "29\n",
      "2\n",
      "16\n",
      "12\n",
      "35\n",
      "8\n",
      "83\n",
      "166\n",
      "62\n",
      "77\n",
      "42\n",
      "54\n",
      "56\n",
      "5\n",
      "9\n",
      "78\n",
      "151\n",
      "27\n",
      "14\n",
      "71\n",
      "261\n",
      "22\n",
      "3\n",
      "16\n",
      "70\n",
      "7\n",
      "2\n",
      "26\n",
      "27\n",
      "35\n",
      "9\n",
      "11\n",
      "73\n",
      "39\n",
      "22\n",
      "41\n",
      "31\n",
      "60\n",
      "7\n",
      "28\n",
      "43\n",
      "17\n",
      "26\n",
      "35\n",
      "60\n",
      "75\n",
      "18\n",
      "58\n",
      "38\n",
      "28\n",
      "26\n",
      "29\n",
      "43\n",
      "16\n",
      "40\n",
      "25\n",
      "28\n",
      "12\n",
      "22\n",
      "13\n",
      "52\n",
      "90\n",
      "103\n",
      "15\n",
      "26\n",
      "29\n",
      "102\n",
      "31\n",
      "9\n",
      "33\n",
      "90\n",
      "95\n",
      "17\n",
      "35\n",
      "59\n",
      "115\n",
      "12\n",
      "26\n",
      "38\n",
      "202\n",
      "25\n",
      "83\n",
      "92\n",
      "58\n",
      "0\n",
      "19\n",
      "63\n",
      "108\n",
      "25\n",
      "38\n",
      "231\n"
     ]
    }
   ],
   "source": [
    "import urllib.request\n",
    "\n",
    "url = 'https://robjhyndman.com/tsdldata/ecology1/hopedale.dat' \n",
    "with urllib.request.urlopen(url) as file:\n",
    "    for line in file:\n",
    "        line = line.strip()\n",
    "        line = line.decode('utf-8')\n",
    "        print(line)"
   ]
  },
  {
   "cell_type": "markdown",
   "id": "83cad2d2",
   "metadata": {},
   "source": [
    "## Writing Files => mode : w / a"
   ]
  },
  {
   "cell_type": "code",
   "execution_count": 36,
   "id": "d0bd5f92",
   "metadata": {},
   "outputs": [
    {
     "name": "stdout",
     "output_type": "stream",
     "text": [
      "Programming for Data Science is fun...?\n"
     ]
    }
   ],
   "source": [
    "with open('file_example.txt', 'r') as file:\n",
    "    contents = file.readline()\n",
    "    print(contents)"
   ]
  },
  {
   "cell_type": "code",
   "execution_count": 37,
   "id": "7bffc45c",
   "metadata": {},
   "outputs": [],
   "source": [
    "# write all => 처음으로 cursor 옮겨서 아예 리셋\n",
    "with open('file_example.txt', 'w') as output_file:\n",
    "    output_file.write(\"Programming for Data Science\")"
   ]
  },
  {
   "cell_type": "code",
   "execution_count": 38,
   "id": "7ab4b3e5",
   "metadata": {},
   "outputs": [
    {
     "name": "stdout",
     "output_type": "stream",
     "text": [
      "Programming for Data Science\n"
     ]
    }
   ],
   "source": [
    "with open('file_example.txt', 'r') as file:\n",
    "    contents = file.readline()\n",
    "    print(contents)"
   ]
  },
  {
   "cell_type": "code",
   "execution_count": 39,
   "id": "99792a5f",
   "metadata": {},
   "outputs": [],
   "source": [
    "# at current cursor line => 띄어쓰기 , 줄바꿈, 탭 모두 적용안됨. 커서 자리에서 바로 붙임 \n",
    "# You need to manually add “\\n” to change the line\n",
    "\n",
    "with open('file_example.txt', 'a') as output_file:\n",
    "    output_file.write('_is fun...?')"
   ]
  },
  {
   "cell_type": "code",
   "execution_count": 40,
   "id": "c8a3aba6",
   "metadata": {},
   "outputs": [
    {
     "name": "stdout",
     "output_type": "stream",
     "text": [
      "Programming for Data Science_is fun...?\n"
     ]
    }
   ],
   "source": [
    "with open('file_example.txt', 'r') as file:\n",
    "    contents = file.readline()\n",
    "    print(contents)"
   ]
  },
  {
   "cell_type": "code",
   "execution_count": null,
   "id": "5305944a",
   "metadata": {},
   "outputs": [],
   "source": []
  },
  {
   "cell_type": "code",
   "execution_count": 41,
   "id": "a2e1da54",
   "metadata": {},
   "outputs": [
    {
     "data": {
      "text/plain": [
       "'/Users/mac/Documents/Datascience_in_snu/programing_foundation_practice'"
      ]
     },
     "execution_count": 41,
     "metadata": {},
     "output_type": "execute_result"
    }
   ],
   "source": [
    "os.chdir('/Users/mac/Documents/Datascience_in_snu/programing_foundation_practice')\n",
    "os.getcwd()"
   ]
  },
  {
   "cell_type": "code",
   "execution_count": 63,
   "id": "7efed497",
   "metadata": {},
   "outputs": [],
   "source": [
    "from typing import TextIO\n",
    "names  = [] \n",
    "numbers  = [] \n",
    "grades = []\n",
    "    \n",
    "def process_file(input_file:TextIO) -> None:\n",
    "    line = input_file.readline()\n",
    "    \n",
    "    while line: # 유효한 라인이라면 계속 반복문이 돌아감\n",
    "        \n",
    "        line = line.strip()  # Remove “\\n” at the end of the line\n",
    "        value = line.split() # Break a line into a list of words\n",
    "        names.append(value[0])\n",
    "        numbers.append(value[1])\n",
    "        grades.append(value[2])\n",
    "        \n",
    "        line = input_file.readline()\n",
    "\n",
    "\n",
    "with open('file_example2.txt','r') as students:\n",
    "    process_file(students)"
   ]
  },
  {
   "cell_type": "code",
   "execution_count": 64,
   "id": "ba57a531",
   "metadata": {},
   "outputs": [
    {
     "data": {
      "text/plain": [
       "['Inhoe', 'Jaewook']"
      ]
     },
     "execution_count": 64,
     "metadata": {},
     "output_type": "execute_result"
    }
   ],
   "source": [
    "names"
   ]
  },
  {
   "cell_type": "raw",
   "id": "72544ddf",
   "metadata": {},
   "source": [
    "<<data 속에 header 존재>>\n",
    "\n",
    "# This file is for a GSDS course “computing foundations for data science.”\n",
    "# This file is created by Hyung-Sin Kim\n",
    "# This file contains students’ grades.\n",
    "Inhoe 2021-1111 A+ \n",
    "Jaewook 2021-2222 A+"
   ]
  },
  {
   "cell_type": "code",
   "execution_count": null,
   "id": "108811d6",
   "metadata": {},
   "outputs": [],
   "source": [
    "# data 속에 skip 해야 되는 데이터들이 껴있으면 => 정제해야함\n",
    "\n",
    "from typing import TextIO\n",
    "\n",
    "def skip_header(input_file: TextIO) -> str:\n",
    "    line = input_file.readline()\n",
    "    while line.startwith(\"#\"):\n",
    "        line = input_file.readline() # skip sentence 발견했을때 커서 다음줄이동\n",
    "    \n",
    "    return line # while 탈출 다음줄 라인을 읽어버리면 커서가 뒤로 넘어감 => 리턴해줘야 기억\n",
    "\n",
    "\n",
    "\n",
    "def process_file(input_file:TextIO) -> None:\n",
    "    \n",
    "    line = skip_header(input_file) # 새로운 함수 생성 => skip step\n",
    "    \n",
    "    line = input_file.readline()\n",
    "    \n",
    "    while line: \n",
    "        \n",
    "        line = line.strip()  \n",
    "        value = line.split() \n",
    "        names.append(value[0])\n",
    "        numbers.append(value[1])\n",
    "        grades.append(value[2])\n",
    "        \n",
    "        line = input_file.readline()\n",
    "\n"
   ]
  }
 ],
 "metadata": {
  "kernelspec": {
   "display_name": "Python 3",
   "language": "python",
   "name": "python3"
  },
  "language_info": {
   "codemirror_mode": {
    "name": "ipython",
    "version": 3
   },
   "file_extension": ".py",
   "mimetype": "text/x-python",
   "name": "python",
   "nbconvert_exporter": "python",
   "pygments_lexer": "ipython3",
   "version": "3.8.8"
  }
 },
 "nbformat": 4,
 "nbformat_minor": 5
}
