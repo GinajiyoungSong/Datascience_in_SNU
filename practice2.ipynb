{
 "cells": [
  {
   "cell_type": "code",
   "execution_count": 1,
   "id": "1c448f78",
   "metadata": {},
   "outputs": [],
   "source": [
    "input1 = [[1,1,0],[1,0,1],[0,0,0]]\n",
    "input2 = [[1,1,0,0],[1,0,0,1],[0,1,1,1],[1,0,1,0]]\n",
    "\n",
    "# 1. 좌우 flip 열 기준으로 뒤집기\n",
    "# 2. reverse 0 <-> 1"
   ]
  },
  {
   "cell_type": "code",
   "execution_count": 8,
   "id": "115bfd68",
   "metadata": {},
   "outputs": [],
   "source": [
    "from typing import List\n",
    "def flipAndInvertImage(A: List[List[int]]) -> List[List[int]]:\n",
    "    # << function body - your code>>\n",
    "    # (1) horizontally flipping\n",
    "    for i in range(len(A)):\n",
    "        for j in range(len(A[0])):\n",
    "            if j < len(A[0])-i-j: # 겹치기 전까지 \n",
    "                A[i][j], A[i][-1-j] = A[i][-1-j], A[i][j]\n",
    "            else:\n",
    "                break\n",
    "   \n",
    "    # (2) inverting\n",
    "    for i in range(len(A)):\n",
    "        for j in range(len(A[0])):\n",
    "            A[i][j] = 1 - A[i][j]\n",
    "            \n",
    "    # return\n",
    "    return A"
   ]
  },
  {
   "cell_type": "code",
   "execution_count": 9,
   "id": "a3d85e29",
   "metadata": {},
   "outputs": [
    {
     "data": {
      "text/plain": [
       "[[1, 1, 1], [1, 0, 1], [0, 0, 0]]"
      ]
     },
     "execution_count": 9,
     "metadata": {},
     "output_type": "execute_result"
    }
   ],
   "source": [
    "output1 = flipAndInvertImage(input1)\n",
    "output1"
   ]
  },
  {
   "cell_type": "code",
   "execution_count": 10,
   "id": "610acf4d",
   "metadata": {},
   "outputs": [
    {
     "data": {
      "text/plain": [
       "[[1, 0, 0, 1], [1, 0, 0, 1], [1, 1, 0, 1], [0, 1, 1, 0]]"
      ]
     },
     "execution_count": 10,
     "metadata": {},
     "output_type": "execute_result"
    }
   ],
   "source": [
    "output2 = flipAndInvertImage(input2)\n",
    "output2"
   ]
  },
  {
   "cell_type": "code",
   "execution_count": null,
   "id": "0822ea30",
   "metadata": {},
   "outputs": [],
   "source": []
  }
 ],
 "metadata": {
  "kernelspec": {
   "display_name": "Python 3",
   "language": "python",
   "name": "python3"
  },
  "language_info": {
   "codemirror_mode": {
    "name": "ipython",
    "version": 3
   },
   "file_extension": ".py",
   "mimetype": "text/x-python",
   "name": "python",
   "nbconvert_exporter": "python",
   "pygments_lexer": "ipython3",
   "version": "3.8.8"
  }
 },
 "nbformat": 4,
 "nbformat_minor": 5
}
