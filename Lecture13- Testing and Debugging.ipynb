{
 "cells": [
  {
   "cell_type": "markdown",
   "id": "130ab012",
   "metadata": {},
   "source": [
    "# Quality Qssurance (QA)\n",
    "- QA engineer\n",
    "- QA check that software is working correctly\n",
    "- Before finalizing and releasing your code, you need to write another program for test your code\n",
    "- Test program(QA) should be reusable\n",
    "\n",
    "\n",
    "### boundary cases\n",
    "- it lies on the boundary between two different behaviors\n",
    "- boundary cases are much more likely to contain bugs than other cases"
   ]
  },
  {
   "cell_type": "code",
   "execution_count": 1,
   "id": "804cf910",
   "metadata": {},
   "outputs": [],
   "source": [
    "# Example - Testing above_freezing\n",
    "def above_freezing(celsius: float) -> bool:\n",
    "    # Test - True / False  제대로 확인\n",
    "    # above_freezing(5.2) -> True\n",
    "    # above_freezing(-2)  -> False\n",
    "    # 0도인경우엔 ? -> boundary case 를 충분히 고려해야한다\n",
    "    \n",
    "    return celsius > 0 # celsius >= 0 녹는점 자체에서 검증"
   ]
  },
  {
   "cell_type": "code",
   "execution_count": 2,
   "id": "716fe519",
   "metadata": {},
   "outputs": [
    {
     "data": {
      "text/plain": [
       "False"
      ]
     },
     "execution_count": 2,
     "metadata": {},
     "output_type": "execute_result"
    }
   ],
   "source": [
    "above_freezing(0)"
   ]
  },
  {
   "cell_type": "code",
   "execution_count": null,
   "id": "94853126",
   "metadata": {},
   "outputs": [],
   "source": [
    "# Example - Testing running_sum\n",
    "def running_sum(L:list) -> None:\n",
    "    for i in range(len(L)):\n",
    "        L[i] = L[i-1] + L[i]\n",
    "        \n",
    "        #  이 함수의 문제\n",
    "        #  i==0 인경우 L[-1]은 리스트 가장 오른쪽 끝의 값을 호출해서 문제 발생\n",
    "        \n",
    "def running_sum(L:list) -> None:\n",
    "    for i in range(1,len(L)):    # start_num = 0 이 될 수 있도록\n",
    "        L[i] = L[i-1] + L[i]\n",
    "        \n",
    "# input 에러를 생성하게 되는 case 까지 고려해야 함"
   ]
  },
  {
   "cell_type": "markdown",
   "id": "6eacca4a",
   "metadata": {},
   "source": [
    "# How to Choose Test Cases?\n",
    "\n",
    "## 1.size\n",
    "- Empty collection, the smallest interesting case, one item, general cases with several items\n",
    "\n",
    "## 2.Dichotomics\n",
    "- two or more different categories, make sure you test all of them\n",
    "\n",
    "## 3.Boundaries\n",
    "-  around a particular boundary, test exactly that boundary case\n",
    "\n",
    "## 4.Order\n",
    "\n",
    "\n",
    "\n",
    "### test 를 거치면서 버그를 잡기 위해 -> 문제 이해가 가장 중요함\n",
    "실제 손으로 알고리즘을 계산해보면서 인풋,아웃풋을 확인하고, 남이 만든 코드를 이해하기 위해 자주 접하는것이 중요함\n",
    "- 실제로 test 코드를 만들어서, 본인코드에 자만하지 않고 검증을 주기적으로 함!\n",
    "- 에러를 반복적으로 발생하는지 - 실패하는 경우로 확인"
   ]
  },
  {
   "cell_type": "code",
   "execution_count": null,
   "id": "cd55da84",
   "metadata": {},
   "outputs": [],
   "source": []
  }
 ],
 "metadata": {
  "kernelspec": {
   "display_name": "Python 3",
   "language": "python",
   "name": "python3"
  },
  "language_info": {
   "codemirror_mode": {
    "name": "ipython",
    "version": 3
   },
   "file_extension": ".py",
   "mimetype": "text/x-python",
   "name": "python",
   "nbconvert_exporter": "python",
   "pygments_lexer": "ipython3",
   "version": "3.8.8"
  }
 },
 "nbformat": 4,
 "nbformat_minor": 5
}
