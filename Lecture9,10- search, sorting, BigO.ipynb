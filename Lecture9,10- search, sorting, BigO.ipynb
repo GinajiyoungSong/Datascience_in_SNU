{
 "cells": [
  {
   "cell_type": "code",
   "execution_count": null,
   "id": "8344fa81",
   "metadata": {},
   "outputs": [],
   "source": [
    "def linear_search_while(L:list, value:Any) -> int: # index = int\n",
    "    i = 0\n",
    "    while i < len(L) and L[i] !=value: # value not found\n",
    "        i = i + 1\n",
    "    if i == len(L): # while loop end\n",
    "        return -1\n",
    "    else: return i # value found"
   ]
  },
  {
   "cell_type": "markdown",
   "id": "2a38b2a9",
   "metadata": {},
   "source": [
    "## Linear search\n",
    "- Evaluate the first item and cut the one evaluated item\n",
    "- Time proportional to len(L)\n",
    "- Applicable to any list\n",
    "\n",
    "time speed\n",
    "    - while > sentinel > for loop > built-in list.index method"
   ]
  },
  {
   "cell_type": "code",
   "execution_count": null,
   "id": "257ad965",
   "metadata": {},
   "outputs": [],
   "source": [
    "def linear_linear_search_sentinel(L:list, value:Any) -> int:\n",
    "    L.append(value) # Add the sentinel\n",
    "    i = 0\n",
    "    while L[i] != value:\n",
    "        i = i + 1\n",
    "    L.pop() # append -> remove\n",
    "    \n",
    "    if i == len(L):\n",
    "        return -1\n",
    "    else:\n",
    "        return i\n",
    "    \n",
    "    # 원본 리스트를 조작해서 무조건 데이터속에 value 가 존재하게 만들어서 while 문을 탈출하게 함 "
   ]
  },
  {
   "cell_type": "code",
   "execution_count": null,
   "id": "4c55a56b",
   "metadata": {},
   "outputs": [],
   "source": [
    "def linear_linear_search_for(L:list, value:Any) -> int:\n",
    "    for i in range(len(L)):\n",
    "        if L[i] == value:\n",
    "            return i\n",
    "    return -1\n",
    "\n",
    "# for loop => is simple code, no complex conditions"
   ]
  },
  {
   "cell_type": "markdown",
   "id": "216a15a5",
   "metadata": {},
   "source": [
    "## Binary search\n",
    "\n",
    "- sorted -> middle value check -> start point = 1/2 로 줄일수 있음 => (1/2)^n\n",
    "\n",
    "- time speed\n",
    "    - Linear search : time delay is proportional to Len(L)\n",
    "    - Binary search : time delay is proportional to log2^len(L)\n",
    "\n",
    "- - Applicable to **sorted list**\n",
    "   ## sorting is very useful"
   ]
  },
  {
   "cell_type": "code",
   "execution_count": null,
   "id": "39d66e96",
   "metadata": {},
   "outputs": [],
   "source": [
    "def binery_search(L:list, value:Any) -> int:\n",
    "    start, end = 0, len(L)-1\n",
    "    while start != end+1 : # not last one\n",
    "        mid = (start + end) // 2\n",
    "        if L[mid] < value:\n",
    "            start = mid + 1\n",
    "        else:\n",
    "            end = mid - 1\n",
    "    if start < len(L) and L(start) == value:\n",
    "        return start\n",
    "    else:\n",
    "        return -1"
   ]
  },
  {
   "cell_type": "markdown",
   "id": "f8fd5075",
   "metadata": {},
   "source": [
    "# selection sort\n",
    "\n",
    " - find_min() needs to look up the **whole** list\n",
    "     \n",
    "     => 결국 smallest num 찾느라 for loop : Len(N)\n",
    "     \n",
    "     => 가장 작은값을 찾아서 제일 왼쪽으로 넣기위해, 순차적으로 sort ; for loop  : Len(N)\n",
    "    \n",
    "    \n",
    " - Time complexity ~ N**2\n",
    " \n",
    "      => 반복문 중첩시킨 "
   ]
  },
  {
   "cell_type": "code",
   "execution_count": 9,
   "id": "575dfc36",
   "metadata": {},
   "outputs": [],
   "source": [
    "\n",
    "def find_min(L:list, start_ind:int) -> int:\n",
    "    smallest = start_idx\n",
    "    for i in range(start_idx+1, len(L)):\n",
    "        if L[i] < L[smallest]:\n",
    "            smallest = i\n",
    "\n",
    "def selection_sort(L:list)-> None:\n",
    "    for i in range(len(L)):\n",
    "        # Find the index of the smallest num\n",
    "        smallest = find_min(L, i)\n",
    "        L[i], L[smallest] = L[smallest], L[i] # swap\n",
    "        \n",
    "        \n",
    "        # 하나의 코드로 합쳐서 정의\n",
    "\n",
    "def selection_sort(L:list)-> None:\n",
    "    for i in range(len(L)):\n",
    "        smallest = i\n",
    "        for j in range(i+1, len(L)):\n",
    "            if L[j] < L[smallest]:\n",
    "                smallest = j\n",
    "        L[i], L[smallest] = L[smallest], L[i]"
   ]
  },
  {
   "cell_type": "code",
   "execution_count": 10,
   "id": "7b4d8911",
   "metadata": {},
   "outputs": [],
   "source": [
    "A = [-2354, -23, 10394, 39, 495, 0.453, -450]\n",
    "selection_sort(A)"
   ]
  },
  {
   "cell_type": "code",
   "execution_count": 11,
   "id": "9fbd336b",
   "metadata": {},
   "outputs": [
    {
     "data": {
      "text/plain": [
       "[-2354, -450, -23, 0.453, 39, 495, 10394]"
      ]
     },
     "execution_count": 11,
     "metadata": {},
     "output_type": "execute_result"
    }
   ],
   "source": [
    "A"
   ]
  },
  {
   "cell_type": "markdown",
   "id": "50d4e1bd",
   "metadata": {},
   "source": [
    "# insertion sort\n",
    "\n",
    " - insert() needs to llok up only half on average\n",
    " - Time complexity ~ N**2\n",
    "  \n",
    "   => insertion 위치를 찾기 위해 for loop 시간 소요 + swap 까지\n",
    "   \n",
    "   => 밖에서 for loop :  **(a bit slower than selection sort)**\n",
    "   \n",
    "   \n",
    " - but also need to swap -> 느리게 되는 원인이지만 - sort된 리스트라면 할필요없어서\n",
    " - but when a list is almost sorted => very fast\n",
    " "
   ]
  },
  {
   "cell_type": "code",
   "execution_count": null,
   "id": "86fe5f90",
   "metadata": {},
   "outputs": [],
   "source": [
    "def insert(L:list, last_idx:int) -> None:\n",
    "    for i in range(last_idx,0,-1): # range() right -> left\n",
    "        if L[i-1] > L[i]:\n",
    "            L[i-1], L[i] = L[i], L[i-1] # swap => sorted\n",
    "            \n",
    "        else:\n",
    "            break\n",
    "    \n",
    "    \n",
    "def insertion_sort(L:list)-> None:\n",
    "    for i in range(l, len(L)):\n",
    "        # insert L[i] to the proper location\n",
    "        insert(L, i)\n",
    "        \n",
    "        \n",
    "def insertion_sort(L:list)-> None:\n",
    "    for i in range(1, len(L)):\n",
    "        \n",
    "        for j in range(i,0,-1): # (1) go backward\n",
    "            if L[j-1] > L[j]:          # (2) check stopping condition\n",
    "                L[j-1], L[j] = L[j], L[j-1]\n",
    "            \n",
    "            else:\n",
    "                break"
   ]
  }
 ],
 "metadata": {
  "kernelspec": {
   "display_name": "Python 3",
   "language": "python",
   "name": "python3"
  },
  "language_info": {
   "codemirror_mode": {
    "name": "ipython",
    "version": 3
   },
   "file_extension": ".py",
   "mimetype": "text/x-python",
   "name": "python",
   "nbconvert_exporter": "python",
   "pygments_lexer": "ipython3",
   "version": "3.8.8"
  }
 },
 "nbformat": 4,
 "nbformat_minor": 5
}
