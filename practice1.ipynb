{
 "cells": [
  {
   "cell_type": "markdown",
   "id": "5c616cd3",
   "metadata": {},
   "source": [
    "# Problem : An example from UC Berkeley\n",
    "\n",
    "- what is the value of the final expression in this sequence?\n",
    "\n",
    "        f : min\n",
    "        f : max\n",
    "        g,h : min,max\n",
    "        max = g\n",
    "        max(f(2,g(h(1,5),3)),4"
   ]
  },
  {
   "cell_type": "code",
   "execution_count": null,
   "id": "75cca73e",
   "metadata": {},
   "outputs": [],
   "source": [
    "f = max\n",
    "g = min\n",
    "max = min\n",
    "h = max\n",
    "\n",
    "h(1,5) = 5\n",
    "g(5,3) = 3\n",
    "f(2,3) = 3\n",
    "max(3,4) = min(3,4) = 3"
   ]
  }
 ],
 "metadata": {
  "kernelspec": {
   "display_name": "Python 3",
   "language": "python",
   "name": "python3"
  },
  "language_info": {
   "codemirror_mode": {
    "name": "ipython",
    "version": 3
   },
   "file_extension": ".py",
   "mimetype": "text/x-python",
   "name": "python",
   "nbconvert_exporter": "python",
   "pygments_lexer": "ipython3",
   "version": "3.8.8"
  }
 },
 "nbformat": 4,
 "nbformat_minor": 5
}
