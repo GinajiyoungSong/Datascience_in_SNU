{
 "cells": [
  {
   "cell_type": "code",
   "execution_count": 42,
   "id": "61e0507a",
   "metadata": {},
   "outputs": [],
   "source": [
    "class Member:\n",
    "    def __init__(self, name:str, address:str, email:str, DoB:str, affliation:str) -> None:\n",
    "        self.name = name\n",
    "        self.address = address\n",
    "        self.email = email\n",
    "        self.DoB = DoB\n",
    "        self.affliation = affliation\n",
    "        self.infoList = [self.name, self.address, self.email, self.DoB, self.affliation]\n",
    "        \n",
    "    def printInfo(self):\n",
    "        print(self.infoList)\n",
    "        \n",
    "    def switch_affliation(self, new_affliation:str):\n",
    "        print('Member', self.name, 'changes affliation from', self.affliation, 'to', new_affliation)\n",
    "        self.affliation = new_affliation"
   ]
  },
  {
   "cell_type": "code",
   "execution_count": 43,
   "id": "757414d0",
   "metadata": {},
   "outputs": [
    {
     "data": {
      "text/plain": [
       "<__main__.Member at 0x7faf78fa01c0>"
      ]
     },
     "execution_count": 43,
     "metadata": {},
     "output_type": "execute_result"
    }
   ],
   "source": [
    "a = Member(\"Jiyoung\", \"seoul\", \"-\", \"19870617\", \"SNU\")\n",
    "a"
   ]
  },
  {
   "cell_type": "code",
   "execution_count": 44,
   "id": "d466341f",
   "metadata": {},
   "outputs": [
    {
     "data": {
      "text/plain": [
       "<bound method Member.printInfo of <__main__.Member object at 0x7faf78fa01c0>>"
      ]
     },
     "execution_count": 44,
     "metadata": {},
     "output_type": "execute_result"
    }
   ],
   "source": [
    "a.printInfo"
   ]
  },
  {
   "cell_type": "code",
   "execution_count": 45,
   "id": "e7c25788",
   "metadata": {},
   "outputs": [
    {
     "name": "stdout",
     "output_type": "stream",
     "text": [
      "['Jiyoung', 'seoul', '-', '19870617', 'SNU']\n"
     ]
    }
   ],
   "source": [
    "a.printInfo() # method call : ()"
   ]
  },
  {
   "cell_type": "code",
   "execution_count": 46,
   "id": "b1a8d9a3",
   "metadata": {},
   "outputs": [],
   "source": [
    "class Student(Member):\n",
    "    def __init__(self,name:str, address:str, email:str, DoB:str, affliation:str, student_num:str) -> None:\n",
    "        super().__init__(name,address,email,DoB,affliation)\n",
    "        # super() : inheritance 부모클래스에서 있는 init 실행된 attribute 모두 받음\n",
    "        self.student_num = student_num\n",
    "        self.advisor = \"\"\n",
    "        self.courses_taken = []\n",
    "        self.courses_taking = []\n",
    "        self.GPA = 0\n",
    "        self.infoList += [self.student_num, self.advisor, self.courses_taken, self.courses_taking, self.GPA]\n",
    "        \n",
    "        \n",
    "    def switch_affliation(self, new_affliation:str):\n",
    "        print('Student', self.name, 'changes affliation from', self.affliation, 'to', new_affliation)\n",
    "        self.affliation = new_affliation"
   ]
  },
  {
   "cell_type": "code",
   "execution_count": 47,
   "id": "d4d30fc2",
   "metadata": {},
   "outputs": [],
   "source": [
    "class Faculty(Member):\n",
    "    def __init__(self,name:str, address:str, email:str, DoB:str, affliation:str, faculty_num:str) -> None:\n",
    "        super().__init__(name,address,email,DoB,affliation)\n",
    "        self.faculty_num = faculty_num\n",
    "        self.advisees = []\n",
    "        self.courses_teaching = []\n",
    "        self.infoList += [self.faculty_num, self.advisees, self.courses_teaching]\n",
    "        \n",
    "    def switch_affliation(self, new_affliation:str):\n",
    "        print('Faculty', self.name, 'changes affliation from', self.affliation, 'to', new_affliation)\n",
    "        self.affliation = new_affliation\n",
    "        self.infoList[4] = new_affliation"
   ]
  },
  {
   "cell_type": "code",
   "execution_count": 48,
   "id": "3d67c64a",
   "metadata": {},
   "outputs": [
    {
     "data": {
      "text/plain": [
       "__main__.Student"
      ]
     },
     "execution_count": 48,
     "metadata": {},
     "output_type": "execute_result"
    }
   ],
   "source": [
    "Gina = Student(\"Jiyoung\", \"seoul\", \"-\", \"19870617\", \"SNU\", \"2012-22621\" )\n",
    "type(Gina)"
   ]
  },
  {
   "cell_type": "code",
   "execution_count": 49,
   "id": "dcc42814",
   "metadata": {},
   "outputs": [
    {
     "name": "stdout",
     "output_type": "stream",
     "text": [
      "['Jiyoung', 'seoul', '-', '19870617', 'SNU', '2012-22621', '', [], [], 0]\n"
     ]
    }
   ],
   "source": [
    "Gina.printInfo() "
   ]
  },
  {
   "cell_type": "code",
   "execution_count": 50,
   "id": "781bd9c8",
   "metadata": {},
   "outputs": [],
   "source": [
    "hyungsin = Faculty('Hyung-Sin Kim', 'my address', 'my email', 'my DoB', 'Data Science', 'my faculty_num')"
   ]
  },
  {
   "cell_type": "code",
   "execution_count": 51,
   "id": "c67b6191",
   "metadata": {},
   "outputs": [
    {
     "name": "stdout",
     "output_type": "stream",
     "text": [
      "['Hyung-Sin Kim', 'my address', 'my email', 'my DoB', 'Data Science', 'my faculty_num', [], []]\n"
     ]
    }
   ],
   "source": [
    "hyungsin.printInfo()"
   ]
  },
  {
   "cell_type": "code",
   "execution_count": 52,
   "id": "813f3d84",
   "metadata": {},
   "outputs": [
    {
     "name": "stdout",
     "output_type": "stream",
     "text": [
      "Student Jiyoung changes affliation from SNU to SNU-BT\n",
      "['Jiyoung', 'seoul', '-', '19870617', 'SNU', '2012-22621', '', [], [], 0]\n"
     ]
    }
   ],
   "source": [
    "# switch_affliation => polymorphsm \n",
    "\n",
    "Gina.switch_affliation(\"SNU-BT\")\n",
    "Gina.printInfo() # 에서는 update 안됨"
   ]
  },
  {
   "cell_type": "code",
   "execution_count": 53,
   "id": "d80097c1",
   "metadata": {},
   "outputs": [
    {
     "data": {
      "text/plain": [
       "'SNU-BT'"
      ]
     },
     "execution_count": 53,
     "metadata": {},
     "output_type": "execute_result"
    }
   ],
   "source": [
    "Gina.affliation"
   ]
  },
  {
   "cell_type": "code",
   "execution_count": 54,
   "id": "175d19a1",
   "metadata": {},
   "outputs": [
    {
     "name": "stdout",
     "output_type": "stream",
     "text": [
      "Faculty Hyung-Sin Kim changes affliation from Data Science to DS\n",
      "['Hyung-Sin Kim', 'my address', 'my email', 'my DoB', 'DS', 'my faculty_num', [], []]\n"
     ]
    }
   ],
   "source": [
    "hyungsin.switch_affliation(\"DS\")\n",
    "hyungsin.printInfo() # update 할 수 있게 코드 변경"
   ]
  },
  {
   "cell_type": "code",
   "execution_count": null,
   "id": "d5dc2863",
   "metadata": {},
   "outputs": [],
   "source": []
  }
 ],
 "metadata": {
  "kernelspec": {
   "display_name": "Python 3",
   "language": "python",
   "name": "python3"
  },
  "language_info": {
   "codemirror_mode": {
    "name": "ipython",
    "version": 3
   },
   "file_extension": ".py",
   "mimetype": "text/x-python",
   "name": "python",
   "nbconvert_exporter": "python",
   "pygments_lexer": "ipython3",
   "version": "3.8.8"
  }
 },
 "nbformat": 4,
 "nbformat_minor": 5
}
