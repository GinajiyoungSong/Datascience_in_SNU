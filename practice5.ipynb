{
 "cells": [
  {
   "cell_type": "markdown",
   "id": "d884d4c4",
   "metadata": {},
   "source": [
    "# Implement stack by using single-linked list\n",
    "    "
   ]
  },
  {
   "cell_type": "code",
   "execution_count": 8,
   "id": "b4fd0e17",
   "metadata": {},
   "outputs": [],
   "source": [
    "class LinkedNode():\n",
    "    def __init__(self, x:int) -> None:\n",
    "        self.val = x\n",
    "        self.next = None\n",
    "        \n",
    "class myStack():\n",
    "    def __init__(self) -> None:\n",
    "        self.sentinel = LinkedNode(0)\n",
    "        self.size = 0\n",
    "        \n",
    "    def push(self, x:int) -> None:\n",
    "        # LinkedNode() class 와 sentinel 임의의 시작을 연결\n",
    "        newPush = LinkedNode(x)\n",
    "        \n",
    "        newPush.next = self.sentinel.next # node link 연결시키기 위해\n",
    "        self.sentinel.next = newPush\n",
    "        self.size += 1\n",
    "        \n",
    "    def pop(self) -> None:\n",
    "        self.sentinel.next = self.sentinel.next.next\n",
    "        self.size -= 1\n",
    "        \n",
    "    def top(self) -> int:\n",
    "        if self.sentinel.next:\n",
    "            return self.sentinel.next.val\n",
    "        return None\n",
    "    \n",
    "    def getSize(self) -> int:\n",
    "        return self.size\n",
    "\n",
    "    def isEmpty(self) -> bool:\n",
    "        if self.size > 0:\n",
    "            return false\n",
    "        return True"
   ]
  },
  {
   "cell_type": "code",
   "execution_count": 9,
   "id": "b0838fd6",
   "metadata": {},
   "outputs": [],
   "source": [
    "a = myStack()"
   ]
  },
  {
   "cell_type": "code",
   "execution_count": 10,
   "id": "2d265b08",
   "metadata": {},
   "outputs": [
    {
     "data": {
      "text/plain": [
       "True"
      ]
     },
     "execution_count": 10,
     "metadata": {},
     "output_type": "execute_result"
    }
   ],
   "source": [
    "a.isEmpty()"
   ]
  },
  {
   "cell_type": "code",
   "execution_count": 11,
   "id": "6f3d7918",
   "metadata": {},
   "outputs": [
    {
     "data": {
      "text/plain": [
       "0"
      ]
     },
     "execution_count": 11,
     "metadata": {},
     "output_type": "execute_result"
    }
   ],
   "source": [
    "a.getSize()"
   ]
  },
  {
   "cell_type": "code",
   "execution_count": 12,
   "id": "cb4be207",
   "metadata": {},
   "outputs": [],
   "source": [
    "a.top()"
   ]
  },
  {
   "cell_type": "code",
   "execution_count": 13,
   "id": "71c26a04",
   "metadata": {},
   "outputs": [
    {
     "data": {
      "text/plain": [
       "3"
      ]
     },
     "execution_count": 13,
     "metadata": {},
     "output_type": "execute_result"
    }
   ],
   "source": [
    "a.push(5)\n",
    "a.push(3)\n",
    "a.push(8)\n",
    "a.getSize()"
   ]
  },
  {
   "cell_type": "code",
   "execution_count": 14,
   "id": "685b533a",
   "metadata": {},
   "outputs": [],
   "source": [
    "a.pop()"
   ]
  },
  {
   "cell_type": "code",
   "execution_count": 15,
   "id": "b38fae33",
   "metadata": {},
   "outputs": [
    {
     "data": {
      "text/plain": [
       "3"
      ]
     },
     "execution_count": 15,
     "metadata": {},
     "output_type": "execute_result"
    }
   ],
   "source": [
    "a.top()"
   ]
  },
  {
   "cell_type": "code",
   "execution_count": 16,
   "id": "44ae52c5",
   "metadata": {},
   "outputs": [
    {
     "data": {
      "text/plain": [
       "5"
      ]
     },
     "execution_count": 16,
     "metadata": {},
     "output_type": "execute_result"
    }
   ],
   "source": [
    "a.pop()\n",
    "a.top()"
   ]
  },
  {
   "cell_type": "code",
   "execution_count": 17,
   "id": "e1220806",
   "metadata": {},
   "outputs": [
    {
     "data": {
      "text/plain": [
       "1"
      ]
     },
     "execution_count": 17,
     "metadata": {},
     "output_type": "execute_result"
    }
   ],
   "source": [
    "a.getSize()"
   ]
  },
  {
   "cell_type": "code",
   "execution_count": 18,
   "id": "29443102",
   "metadata": {},
   "outputs": [
    {
     "data": {
      "text/plain": [
       "True"
      ]
     },
     "execution_count": 18,
     "metadata": {},
     "output_type": "execute_result"
    }
   ],
   "source": [
    "a.pop()\n",
    "\n",
    "a.isEmpty()"
   ]
  },
  {
   "cell_type": "code",
   "execution_count": null,
   "id": "c90650f5",
   "metadata": {},
   "outputs": [],
   "source": []
  }
 ],
 "metadata": {
  "kernelspec": {
   "display_name": "Python 3",
   "language": "python",
   "name": "python3"
  },
  "language_info": {
   "codemirror_mode": {
    "name": "ipython",
    "version": 3
   },
   "file_extension": ".py",
   "mimetype": "text/x-python",
   "name": "python",
   "nbconvert_exporter": "python",
   "pygments_lexer": "ipython3",
   "version": "3.8.8"
  }
 },
 "nbformat": 4,
 "nbformat_minor": 5
}
