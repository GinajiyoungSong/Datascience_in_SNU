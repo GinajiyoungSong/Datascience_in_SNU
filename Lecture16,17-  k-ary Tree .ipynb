{
 "cells": [
  {
   "cell_type": "code",
   "execution_count": 12,
   "id": "c3ab6f16",
   "metadata": {},
   "outputs": [],
   "source": [
    "class TreeNode():\n",
    "    def __init__(self, x:int):\n",
    "        self.val = x\n",
    "        self.left = None\n",
    "        self.right = None\n",
    "        \n",
    "# binary Tree"
   ]
  },
  {
   "cell_type": "code",
   "execution_count": 13,
   "id": "cb4d8964",
   "metadata": {},
   "outputs": [],
   "source": [
    "tree1 = TreeNode(1)\n",
    "tree2 = TreeNode(2)\n",
    "root = TreeNode(3)\n",
    "tree4 = TreeNode(4)\n",
    "tree5 = TreeNode(5)\n",
    "tree6 = TreeNode(6)\n",
    "tree7 = TreeNode(7)\n",
    "\n",
    "\n",
    "root.left = tree7\n",
    "root.right = tree5\n",
    "\n",
    "tree7.left = tree2\n",
    "tree7.right = tree1\n",
    "\n",
    "tree5.left = tree6\n",
    "tree5.right = tree4"
   ]
  },
  {
   "cell_type": "code",
   "execution_count": 16,
   "id": "1750ef5f",
   "metadata": {},
   "outputs": [],
   "source": [
    "def Traversal(root):\n",
    "    if root is None:\n",
    "        return\n",
    "    \n",
    "    queue = []\n",
    "    queue.append(root)\n",
    "    \n",
    "    while(len(queue) > 0):\n",
    "        print(queue[0].val, end = ' ')\n",
    "        node = queue.pop(0)\n",
    "\n",
    "        if node.left is not None:\n",
    "            queue.append(node.left)\n",
    "        if node.right is not None:\n",
    "            queue.append(node.right)"
   ]
  },
  {
   "cell_type": "code",
   "execution_count": 17,
   "id": "f8c77fca",
   "metadata": {},
   "outputs": [
    {
     "name": "stdout",
     "output_type": "stream",
     "text": [
      "3 7 5 2 1 6 4 "
     ]
    }
   ],
   "source": [
    "Traversal(root)"
   ]
  },
  {
   "cell_type": "code",
   "execution_count": 18,
   "id": "9b25e8ac",
   "metadata": {},
   "outputs": [],
   "source": [
    "def Traversal2(root):\n",
    "    if root is None:\n",
    "        return\n",
    "    print(root.val, end=' ')\n",
    "    Traversal2(root.left) # 왼쪽가지부터\n",
    "    Traversal2(root.right)"
   ]
  },
  {
   "cell_type": "code",
   "execution_count": 19,
   "id": "9cd97284",
   "metadata": {},
   "outputs": [
    {
     "name": "stdout",
     "output_type": "stream",
     "text": [
      "3 7 2 1 5 6 4 "
     ]
    }
   ],
   "source": [
    "Traversal2(root)"
   ]
  },
  {
   "cell_type": "markdown",
   "id": "15767f94",
   "metadata": {},
   "source": [
    "# Level-order(Breadth-First) Traversal\n",
    "- visit nodes from left to right, and from top to bottom\n",
    "- Implementation using FIFO queue (deque in Python)\n",
    "\n",
    "- 넓이 -> 수평으로 가로로 탐색이 우선"
   ]
  },
  {
   "cell_type": "code",
   "execution_count": 2,
   "id": "fab036e9",
   "metadata": {},
   "outputs": [],
   "source": [
    "class TreeNode():\n",
    "    def __init__(self, node:int):\n",
    "        self.ary = node\n",
    "        self.child = [None]*node"
   ]
  },
  {
   "cell_type": "code",
   "execution_count": 3,
   "id": "5ba10704",
   "metadata": {},
   "outputs": [],
   "source": [
    "class Tree():\n",
    "    def __init__(self, node:TreeNode):\n",
    "        self.root = None\n",
    "        self.val = node\n",
    "        \n",
    "    def visit(self, node:TreeNode):\n",
    "        print(node.val)\n",
    "        \n",
    "    def BFT(self):\n",
    "        if self.root == None:\n",
    "            return # None 아무값이 없을때 값 없이 코드 통과\n",
    "        \n",
    "        q = [self.root] # queue 를 만들어서 FIFO 시스템\n",
    "        while q:\n",
    "            curNode = q.pop(0) # 0 : 가장 왼쪽 : 가장 먼저 넣은 값\n",
    "            # visit 에 넣어서 out : val\n",
    "            self.visit(curNode) \n",
    "            \n",
    "            for childNode in curNode.child:\n",
    "                if childNode: # childnode 가 None 이 아니면\n",
    "                    q.append(childNode)"
   ]
  },
  {
   "cell_type": "markdown",
   "id": "fe8bbab8",
   "metadata": {},
   "source": [
    "Doubly-linked list that provides\n",
    "- append(x), appendleft(x),\n",
    "- pop(), popleft()"
   ]
  },
  {
   "cell_type": "code",
   "execution_count": 4,
   "id": "2608d805",
   "metadata": {},
   "outputs": [],
   "source": [
    "# Deque 파이썬이 제공하는 함수 사용\n",
    "# faster pushing and popping\n",
    "\n",
    "from collections import deque\n",
    "\n",
    "class Tree():\n",
    "    def __init__(self, node:TreeNode):\n",
    "        self.root = None\n",
    "        self.val = node\n",
    "        \n",
    "    def visit(self, node:TreeNode):\n",
    "        print(node.val)\n",
    "        \n",
    "    def BFT(self):\n",
    "        if self.root == None:\n",
    "            return # None 아무값이 없을때 값 없이 코드 통과\n",
    "        \n",
    "        q = deque([self.root]) # queue 를 만들어서 FIFO 시스템\n",
    "        while q:\n",
    "            curNode = q.deque()\n",
    "            self.visit(curNode) \n",
    "            \n",
    "            for childNode in curNode.child:\n",
    "                if childNode: # childnode 가 None 이 아니면\n",
    "                    q.append(childNode)"
   ]
  },
  {
   "cell_type": "markdown",
   "id": "f647afa4",
   "metadata": {},
   "source": [
    "# Depth-First Traversal\n",
    "\n",
    "- Implementation using recursion (or LIFO stack – also using deque in Python)\n",
    "\n",
    "Three types\n",
    "- preorder\n",
    "- inorder\n",
    "- postorder"
   ]
  },
  {
   "cell_type": "code",
   "execution_count": 5,
   "id": "cb01484b",
   "metadata": {},
   "outputs": [],
   "source": [
    "# Preorder\n",
    "\n",
    "class Tree():\n",
    "    def __init__(self, node:TreeNode):\n",
    "        self.root = None\n",
    "        self.val = node\n",
    "        \n",
    "    def visit(self, node:TreeNode):\n",
    "        print(node.val)\n",
    "        \n",
    "    # recursiin\n",
    "    def __DFT_preorderHelp(self, curNode: TreeNode):\n",
    "        if curNode == None:\n",
    "            return\n",
    "        \n",
    "        # visit a node before traversing its children\n",
    "        self.visit(curNode)\n",
    "        for childNode in curNode.child:\n",
    "            self.__DFT_preorderHelp(childNode)\n",
    "        \n",
    "    def DFT_preorder(self):\n",
    "        self.__DFT_preorderHelp(self.root)"
   ]
  },
  {
   "cell_type": "code",
   "execution_count": 6,
   "id": "14dfb11f",
   "metadata": {},
   "outputs": [],
   "source": [
    "# Inorder\n",
    "# - Traverse a node's children from left to right and visit the node in the middle\n",
    "\n",
    "class Tree():\n",
    "    def __init__(self, node:TreeNode):\n",
    "        self.root = None\n",
    "        self.val = node\n",
    "        \n",
    "    def visit(self, node:TreeNode):\n",
    "        print(node.val)\n",
    "        \n",
    "    def __DFT_inorderHelp(self, curNode:TreeNode):\n",
    "        if curNode == None:\n",
    "            return\n",
    "        \n",
    "        for i in range(len(curNode.child)):\n",
    "            # i == 1 자녀가 1개가 아님. child => [None]*k ary\n",
    "            # 0~ [k-1] 까지 for loop 돌면서 i==1 일때 딱 한번 자기값 out\n",
    "            if i == 1:\n",
    "                self.visit(curNode)\n",
    "            self.__DFT_inorderHelp(curNode.child[i])\n",
    "        \n",
    "    def DFT_inorder(self):\n",
    "        self.__DFT_inorderHelp(self.root)\n",
    "        "
   ]
  },
  {
   "cell_type": "code",
   "execution_count": null,
   "id": "87e8acf6",
   "metadata": {},
   "outputs": [],
   "source": [
    "# Postorder\n",
    "\n",
    "class Tree():\n",
    "    def __init__(self, node:TreeNode):\n",
    "        self.root = None\n",
    "        self.val = node\n",
    "        \n",
    "    def visit(self, node:TreeNode):\n",
    "        print(node.val)\n",
    "        \n",
    "    def __DFT_postorderHelp(self, curNode:TreeNode):\n",
    "        if curNode == None:\n",
    "            return\n",
    "        \n",
    "        for i in range(len(curNode.child)):\n",
    "            # Visit a node after traversing its children from left to right\n",
    "            self.__DFT_inorderHelp(curNode.child[i])\n",
    "            \n",
    "        self.visit(curNode)\n",
    "            \n",
    "    def DFT_inorder(self):\n",
    "        self.__DFT_inorderHelp(self.root)\n",
    "        "
   ]
  }
 ],
 "metadata": {
  "kernelspec": {
   "display_name": "Python 3",
   "language": "python",
   "name": "python3"
  },
  "language_info": {
   "codemirror_mode": {
    "name": "ipython",
    "version": 3
   },
   "file_extension": ".py",
   "mimetype": "text/x-python",
   "name": "python",
   "nbconvert_exporter": "python",
   "pygments_lexer": "ipython3",
   "version": "3.8.8"
  }
 },
 "nbformat": 4,
 "nbformat_minor": 5
}
