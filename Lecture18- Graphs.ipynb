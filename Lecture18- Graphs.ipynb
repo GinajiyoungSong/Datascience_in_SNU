{
 "cells": [
  {
   "cell_type": "code",
   "execution_count": 9,
   "id": "240330f9",
   "metadata": {},
   "outputs": [],
   "source": [
    "# Graph Construction\n",
    "\n",
    "# Vertices => V, edges => E\n",
    "\n",
    "\n",
    "from collections import deque\n",
    "\n",
    "class undi_graph():\n",
    "    def __init__(self, V:list, E:list) -> None:\n",
    "        # Copy all the vertices (alias X)\n",
    "        self.V = V[:] \n",
    "        \n",
    "        # initialization of naighbor list(empty)\n",
    "        self.neighbor = {}\n",
    "        for v in V:\n",
    "            self.neighbor[v] = [] \n",
    "        \n",
    "        # Set neighbor relationship by using edge\n",
    "        for (v,w) in E:\n",
    "            self.neighbor[v].append(w)\n",
    "            self.neighbor[w].append(v) # undirect = 양방향\n",
    "            \n",
    "            \n",
    "    def __DFTHelp(self, visited, v:int) -> None:\n",
    "        \n",
    "        if not visited[v]:\n",
    "            # not true : Do something \n",
    "            visited[v] = True\n",
    "            \n",
    "            # 순서를 미리 프린트하면 ->  preorder - print(v)\n",
    "            \n",
    "            # Visit all the neightbors\n",
    "            for w in self.neighbor[v]:\n",
    "                self.__DFTHelp(visited,w)\n",
    "                \n",
    "            # Post order ( action after visiting all the neighbors)\n",
    "            print(v)\n",
    "            \n",
    "            \n",
    "    def DFT(self) -> None:\n",
    "        if self.V:\n",
    "            # initialization\n",
    "            visited = {}\n",
    "            for v in self.V:\n",
    "                visited[v] = False\n",
    "                \n",
    "            # Travarsal - for loop is necessary to visit all disconnected nodes\n",
    "            for v in self.V:\n",
    "                self.__DFTHelp(visited, v)\n",
    "                \n",
    "                \n",
    "                \n",
    "    def BFT(self) -> None:\n",
    "        if self.V:\n",
    "            # initialization\n",
    "            visited = {}\n",
    "            for v in self.V:\n",
    "                visited[v] = False\n",
    "            \n",
    "            q = deque()\n",
    "                \n",
    "            # Travarsal - for loop is necessary to visit all disconnected nodes\n",
    "            for v in self.V:\n",
    "                q.append(v)\n",
    "                while q:\n",
    "                    # Get the first vertex!\n",
    "                    v = q.popleft()\n",
    "                    if not visited[v]:\n",
    "                        visited[v] = True\n",
    "                        print(v)\n",
    "                        \n",
    "                        # visit all the neighbors\n",
    "                        for w in self.neighbor[v]:\n",
    "                            q.append(w)\n",
    "                        print(q)\n",
    "                \n",
    "        "
   ]
  },
  {
   "cell_type": "code",
   "execution_count": 10,
   "id": "41c14daf",
   "metadata": {},
   "outputs": [],
   "source": [
    "V = [0, 1, 2, 3, 4, 5, 6, 7, 8, 9]\n",
    "E = [(0,1),(1,4),(1,5),(4,6),(5,6),(5,7),(6,9),(7,8),(2,3)]"
   ]
  },
  {
   "cell_type": "code",
   "execution_count": 11,
   "id": "ead1be8a",
   "metadata": {},
   "outputs": [],
   "source": [
    "myGraph = undi_graph(V,E)"
   ]
  },
  {
   "cell_type": "code",
   "execution_count": 12,
   "id": "7a4cfb7a",
   "metadata": {},
   "outputs": [
    {
     "name": "stdout",
     "output_type": "stream",
     "text": [
      "8\n",
      "7\n",
      "5\n",
      "9\n",
      "6\n",
      "4\n",
      "1\n",
      "0\n",
      "3\n",
      "2\n"
     ]
    }
   ],
   "source": [
    "myGraph.DFT()"
   ]
  },
  {
   "cell_type": "code",
   "execution_count": 13,
   "id": "619f79fc",
   "metadata": {},
   "outputs": [
    {
     "name": "stdout",
     "output_type": "stream",
     "text": [
      "0\n",
      "deque([1])\n",
      "1\n",
      "deque([0, 4, 5])\n",
      "4\n",
      "deque([5, 1, 6])\n",
      "5\n",
      "deque([1, 6, 1, 6, 7])\n",
      "6\n",
      "deque([1, 6, 7, 4, 5, 9])\n",
      "7\n",
      "deque([4, 5, 9, 5, 8])\n",
      "9\n",
      "deque([5, 8, 6])\n",
      "8\n",
      "deque([6, 7])\n",
      "2\n",
      "deque([3])\n",
      "3\n",
      "deque([2])\n"
     ]
    }
   ],
   "source": [
    "myGraph.BFT()"
   ]
  },
  {
   "cell_type": "code",
   "execution_count": null,
   "id": "098246dd",
   "metadata": {},
   "outputs": [],
   "source": [
    "class uni_graph():\n",
    "    def __init__():\n",
    "        \n",
    "    def __DFTHelp(self, visited:list, v:int):\n",
    "        if not visited[v]:\n",
    "            visited[v] = True\n",
    "            print(v) # 방문했고 -> 확인\n",
    "            \n",
    "            for w in self.neighbor[v]:\n",
    "                self.__DFTHelp(visited, w)\n",
    "        \n",
    "    def DFT(self) -> None:\n",
    "        if self.V:\n",
    "            # cycle 이 있을때, 방문한 곳을 기억해야한다?\n",
    "            viseted = {}\n",
    "            for v in self.V:\n",
    "                visited[v] = False # 방문하지 않았을때 recursive\n",
    "                \n",
    "            # recursive 바로 진입시켜서 True 바꾸고 print !    \n",
    "            for v in self.V:\n",
    "                self.__DFTHelp(visited, v)"
   ]
  }
 ],
 "metadata": {
  "kernelspec": {
   "display_name": "Python 3",
   "language": "python",
   "name": "python3"
  },
  "language_info": {
   "codemirror_mode": {
    "name": "ipython",
    "version": 3
   },
   "file_extension": ".py",
   "mimetype": "text/x-python",
   "name": "python",
   "nbconvert_exporter": "python",
   "pygments_lexer": "ipython3",
   "version": "3.8.8"
  }
 },
 "nbformat": 4,
 "nbformat_minor": 5
}
