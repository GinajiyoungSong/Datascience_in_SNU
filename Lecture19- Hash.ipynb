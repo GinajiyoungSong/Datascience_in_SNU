{
 "cells": [
  {
   "cell_type": "markdown",
   "id": "8cf8ffa5",
   "metadata": {},
   "source": [
    "# practice 19 - hash\n",
    "\n",
    "Hash Function - time complexity O(N)\n",
    "- How can we handle when hash values are collided?\n",
    "- how can we compute a hash function?\n",
    "\n",
    "## Data-Indexed Array with Chains"
   ]
  },
  {
   "cell_type": "code",
   "execution_count": 5,
   "id": "bfca956f",
   "metadata": {},
   "outputs": [],
   "source": [
    "class di_array():\n",
    "\n",
    "    def __init__(self) -> None:\n",
    "        self.array =[None]*4294967296\n",
    "\n",
    "    def add(self, x) -> None:\n",
    "        i = hash_value(x)\n",
    "        if self.array[i] == None:\n",
    "            self.array[i] = SLList()\n",
    "        self.array[i].addFirst(x)"
   ]
  },
  {
   "cell_type": "code",
   "execution_count": 1,
   "id": "be3f389c",
   "metadata": {},
   "outputs": [],
   "source": [
    "di_array = set()\n",
    "di_array.add(2)\n",
    "di_array.add(9)"
   ]
  },
  {
   "cell_type": "code",
   "execution_count": 3,
   "id": "5c3d31d2",
   "metadata": {},
   "outputs": [
    {
     "data": {
      "text/plain": [
       "{2, 9}"
      ]
     },
     "execution_count": 3,
     "metadata": {},
     "output_type": "execute_result"
    }
   ],
   "source": [
    "di_array"
   ]
  },
  {
   "cell_type": "code",
   "execution_count": 8,
   "id": "8fd7fbd5",
   "metadata": {},
   "outputs": [
    {
     "ename": "NameError",
     "evalue": "name 'hash_value' is not defined",
     "output_type": "error",
     "traceback": [
      "\u001b[0;31m---------------------------------------------------------------------------\u001b[0m",
      "\u001b[0;31mNameError\u001b[0m                                 Traceback (most recent call last)",
      "\u001b[0;32m<ipython-input-8-ea7154a2cf8e>\u001b[0m in \u001b[0;36m<module>\u001b[0;34m\u001b[0m\n\u001b[1;32m      1\u001b[0m \u001b[0mA\u001b[0m \u001b[0;34m=\u001b[0m \u001b[0mdi_array\u001b[0m\u001b[0;34m(\u001b[0m\u001b[0;34m)\u001b[0m\u001b[0;34m\u001b[0m\u001b[0;34m\u001b[0m\u001b[0m\n\u001b[0;32m----> 2\u001b[0;31m \u001b[0mA\u001b[0m\u001b[0;34m.\u001b[0m\u001b[0madd\u001b[0m\u001b[0;34m(\u001b[0m\u001b[0;34m'4'\u001b[0m\u001b[0;34m)\u001b[0m\u001b[0;34m\u001b[0m\u001b[0;34m\u001b[0m\u001b[0m\n\u001b[0m\u001b[1;32m      3\u001b[0m \u001b[0mA\u001b[0m\u001b[0;34m.\u001b[0m\u001b[0madd\u001b[0m\u001b[0;34m(\u001b[0m\u001b[0;34m'gina'\u001b[0m\u001b[0;34m)\u001b[0m\u001b[0;34m\u001b[0m\u001b[0;34m\u001b[0m\u001b[0m\n\u001b[1;32m      4\u001b[0m \u001b[0;34m'gina'\u001b[0m \u001b[0;32min\u001b[0m \u001b[0mA\u001b[0m\u001b[0;34m\u001b[0m\u001b[0;34m\u001b[0m\u001b[0m\n",
      "\u001b[0;32m<ipython-input-5-0853547308cb>\u001b[0m in \u001b[0;36madd\u001b[0;34m(self, x)\u001b[0m\n\u001b[1;32m      5\u001b[0m \u001b[0;34m\u001b[0m\u001b[0m\n\u001b[1;32m      6\u001b[0m     \u001b[0;32mdef\u001b[0m \u001b[0madd\u001b[0m\u001b[0;34m(\u001b[0m\u001b[0mself\u001b[0m\u001b[0;34m,\u001b[0m \u001b[0mx\u001b[0m\u001b[0;34m)\u001b[0m \u001b[0;34m->\u001b[0m \u001b[0;32mNone\u001b[0m\u001b[0;34m:\u001b[0m\u001b[0;34m\u001b[0m\u001b[0;34m\u001b[0m\u001b[0m\n\u001b[0;32m----> 7\u001b[0;31m         \u001b[0mi\u001b[0m \u001b[0;34m=\u001b[0m \u001b[0mhash_value\u001b[0m\u001b[0;34m(\u001b[0m\u001b[0mx\u001b[0m\u001b[0;34m)\u001b[0m\u001b[0;34m\u001b[0m\u001b[0;34m\u001b[0m\u001b[0m\n\u001b[0m\u001b[1;32m      8\u001b[0m         \u001b[0;32mif\u001b[0m \u001b[0mself\u001b[0m\u001b[0;34m.\u001b[0m\u001b[0marray\u001b[0m\u001b[0;34m[\u001b[0m\u001b[0mi\u001b[0m\u001b[0;34m]\u001b[0m \u001b[0;34m==\u001b[0m \u001b[0;32mNone\u001b[0m\u001b[0;34m:\u001b[0m\u001b[0;34m\u001b[0m\u001b[0;34m\u001b[0m\u001b[0m\n\u001b[1;32m      9\u001b[0m             \u001b[0mself\u001b[0m\u001b[0;34m.\u001b[0m\u001b[0marray\u001b[0m\u001b[0;34m[\u001b[0m\u001b[0mi\u001b[0m\u001b[0;34m]\u001b[0m \u001b[0;34m=\u001b[0m \u001b[0mSLList\u001b[0m\u001b[0;34m(\u001b[0m\u001b[0;34m)\u001b[0m\u001b[0;34m\u001b[0m\u001b[0;34m\u001b[0m\u001b[0m\n",
      "\u001b[0;31mNameError\u001b[0m: name 'hash_value' is not defined"
     ]
    }
   ],
   "source": [
    "A = di_array()\n",
    "A.add('4')\n",
    "A.add('gina')\n",
    "'gina' in A"
   ]
  },
  {
   "cell_type": "markdown",
   "id": "2a449add",
   "metadata": {},
   "source": [
    "# Hash table\n",
    "- A table that stores data by using a valid index that is computed as follows:\n",
    "    - Data -> hash function -> hash value -> reduction (e.g., modulo) -> valid index\n",
    "    \n",
    "        - SLList  -> Add O(1) -> in O(n)\n",
    "        - List    -> add O(1) -> in O(n)\n",
    "        - Data-indexed Array          -> O(1) ->  O(1)\n",
    "        - Data-indexed Array with Chain -> O(1) ->  O(K)\n",
    "        \n",
    "M indices and N items\n",
    "- K is between N/M (best case, evenly spread) and N (worst case, a long single chain)\n",
    "- If we increase M proportional to N, O(N/M) becomes O(1)!\n",
    "- we can double M when N/M >= 1.5 => **Resizing**\n",
    "\n",
    " O((2N-1)/N) = O(1) \n",
    " \n",
    "   - Data-indexed Array with Chains (with resizing)  -> O(1) ->  O(1)"
   ]
  },
  {
   "cell_type": "code",
   "execution_count": null,
   "id": "8d8a6428",
   "metadata": {},
   "outputs": [],
   "source": [
    "def hashfunction(x: str):\n",
    "    return ord(x[0])       \n",
    "    # same index for all strings that have the same first character\n",
    "\n",
    "def hashfunction(x: str):\n",
    "    ans = 0\n",
    "    for ch in x:\n",
    "        ans += ord(ch)\n",
    "    return ans\n",
    "    # same index for all strings that consist of same characters\n",
    "\n",
    "    \n",
    "def hashfunction(x: str):\n",
    "    ans=0\n",
    "    for ch in x:\n",
    "        ans = ans * B + ord(ch) # a base B number\n",
    "    return ans"
   ]
  }
 ],
 "metadata": {
  "kernelspec": {
   "display_name": "Python 3",
   "language": "python",
   "name": "python3"
  },
  "language_info": {
   "codemirror_mode": {
    "name": "ipython",
    "version": 3
   },
   "file_extension": ".py",
   "mimetype": "text/x-python",
   "name": "python",
   "nbconvert_exporter": "python",
   "pygments_lexer": "ipython3",
   "version": "3.8.8"
  }
 },
 "nbformat": 4,
 "nbformat_minor": 5
}
